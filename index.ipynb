{
 "cells": [
  {
   "cell_type": "markdown",
   "id": "4a01e709-3dd9-4c29-9ebd-5865214c6790",
   "metadata": {},
   "source": [
    "# MOVIE STUDIO ANALYSIS\n"
   ]
  },
  {
   "cell_type": "markdown",
   "id": "1d9f4dd4-0bd9-477f-a8d9-d3f1e2682d0c",
   "metadata": {},
   "source": [
    "## Business Understanding"
   ]
  },
  {
   "cell_type": "markdown",
   "id": "ae34f546-9b31-4ae6-bc0e-e2208c45fc86",
   "metadata": {},
   "source": [
    "As a company, we have decided to create a  new movie studio but with little knowledge in creating movies. We have been charged with exploring what type of films are currently doing the best at the box office. We must then translate the findings into actionable insights that the head of the companys new movie studio can use to help decide what type of films to create.\n",
    "\n",
    "* Our focus will be to make suggestions for the type of movies that will be most profitable for our new movie division.\n",
    "\n"
   ]
  },
  {
   "cell_type": "markdown",
   "id": "ca299c5e-9484-4c9c-a1bd-7e2c31531edc",
   "metadata": {},
   "source": [
    "## Data Understanding"
   ]
  },
  {
   "cell_type": "markdown",
   "id": "59deac65-c9bc-4557-8c69-3dde65bb24ef",
   "metadata": {},
   "source": [
    "we will be using the following datasets:\n",
    "1. `rt.reviews.tsv` from [https://www.rottentomatoes.com/]\n",
    "2. `im.db` from [https://www.imdb.com/]\n",
    "3. `bom.movies_gross.csv` from [https://www.boxofficemojo.com/]"
   ]
  },
  {
   "cell_type": "markdown",
   "id": "faa19dd0-c491-4107-b231-c5e0fdb1c9aa",
   "metadata": {},
   "source": [
    "# Importing libraries"
   ]
  },
  {
   "cell_type": "code",
   "execution_count": 1,
   "id": "8dc1626b-e63f-4695-aabb-f8bb852cfda9",
   "metadata": {},
   "outputs": [],
   "source": [
    "#importing libraries\n",
    "\n",
    "import pandas as pd\n",
    "import numpy as np\n",
    "import sqlite3\n",
    "import matplotlib.pyplot as plt\n",
    "import seaborn as sns\n",
    "import scipy.stats as stats\n",
    "\n",
    "%matplotlib inline"
   ]
  },
  {
   "cell_type": "markdown",
   "id": "557fc8a3-8b91-40dc-8c20-4d925a4c1ac8",
   "metadata": {},
   "source": [
    "### Loading Data sets"
   ]
  },
  {
   "cell_type": "code",
   "execution_count": 1,
   "id": "8b76502d-b41b-45fa-bc31-ffe16d2734ba",
   "metadata": {},
   "outputs": [
    {
     "ename": "SyntaxError",
     "evalue": "incomplete input (1416298190.py, line 18)",
     "output_type": "error",
     "traceback": [
      "\u001b[1;36m  Cell \u001b[1;32mIn[1], line 18\u001b[1;36m\u001b[0m\n\u001b[1;33m    q = '''\u001b[0m\n\u001b[1;37m        ^\u001b[0m\n\u001b[1;31mSyntaxError\u001b[0m\u001b[1;31m:\u001b[0m incomplete input\n"
     ]
    }
   ],
   "source": [
    "#loading datasets\n",
    "\n",
    "file_path = 'data/rt.reviews.tsv'\n",
    "\n",
    "try:\n",
    "    review_df = pd.read_csv(file_path, sep='\\t', on_bad_lines='skip', encoding='ISO-8859-1')\n",
    "except pd.errors.ParserError as e:\n",
    "    print(f\"Error parsing file: {e}\")\n",
    "\n",
    "\n",
    "# bom.movie_gross.csv\n",
    "path = 'data/bom.movie_gross.csv'\n",
    "movie_gross_df = pd.read_csv(path)\n",
    "\n",
    "\n",
    "# im.dbsqlite, we load only the 2 tables that are needed for the analysis. \n",
    "conn = sqlite3.connect('data/im.db')\n",
    "q = '''\n",
    "SELECT *\n",
    "    FROM movie_basics\n",
    "    JOIN movie_ratings\n",
    "    ON movie_basics.movie_ID = movie_ratings.movie_id"
   ]
  }
 ],
 "metadata": {
  "kernelspec": {
   "display_name": "Python 3 (ipykernel)",
   "language": "python",
   "name": "python3"
  },
  "language_info": {
   "codemirror_mode": {
    "name": "ipython",
    "version": 3
   },
   "file_extension": ".py",
   "mimetype": "text/x-python",
   "name": "python",
   "nbconvert_exporter": "python",
   "pygments_lexer": "ipython3",
   "version": "3.11.9"
  }
 },
 "nbformat": 4,
 "nbformat_minor": 5
}
