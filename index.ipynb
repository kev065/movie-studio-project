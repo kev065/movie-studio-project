{
 "cells": [
  {
   "cell_type": "markdown",
   "id": "f53e9086-62fc-4cc1-8a57-97f59d96e67c",
   "metadata": {},
   "source": [
    "# MOVIE STUDIO ANALYSIS"
   ]
  },
  {
   "cell_type": "markdown",
   "id": "e68baefb-2db5-453c-b82a-0c9f132768e8",
   "metadata": {},
   "source": [
    "<img src=\"images/moviedog.jpg\" style=\"width:100%; height:auto;\">"
   ]
  },
  {
   "cell_type": "markdown",
   "id": "d3921e90-5fe5-4b0d-b1b4-abdc17ab0235",
   "metadata": {},
   "source": [
    "## Business understanding"
   ]
  },
  {
   "cell_type": "markdown",
   "id": "a6acb4fb-bc31-47a8-a678-95dd5cfa69aa",
   "metadata": {},
   "source": [
    "Our company have decided to create a new movie studio, but they don’t know anything about creating movies. We have been charged with exploring what types of films are currently doing the best at the box office.\n",
    "We must then translate the findings into actionable insights that the head of the company's new movie studio can use to help decide what type of films to create.\n",
    "\n",
    "* Our focus will be to make suggestions for the type of movies that will be the most profitable for our new movie division."
   ]
  },
  {
   "cell_type": "markdown",
   "id": "df7aab85-1eea-4ebc-8c62-4facf4a905cc",
   "metadata": {},
   "source": [
    "## Data understanding"
   ]
  },
  {
   "cell_type": "markdown",
   "id": "8d911651-f6c0-44ea-8a9b-74db319354e8",
   "metadata": {},
   "source": [
    "we will be using the following datasets:\n",
    "1. `rt.reviews.tsv` from [rotten tomatoes](https://www.rottentomatoes.com/)\n",
    "2. `rt.movie_info.tsv` from [rotten tomatoes](https://www.rottentomatoes.com/)\n",
    "3. `im.db` from [IMDB](https://www.imdb.com/)\n",
    "4. `bom.movie_gross.csv` from [BOXOFFICE MOJO](https://www.boxofficemojo.com/)\n",
    "5. `tn.movie_budgets.csv` from [NUMBERS](https://www.the-numbers.com/)"
   ]
  },
  {
   "cell_type": "markdown",
   "id": "cc8c7324-c6e9-4f39-a8c7-67eb91dff22a",
   "metadata": {},
   "source": [
    "### Importing libraries"
   ]
  },
  {
   "cell_type": "code",
   "execution_count": 1,
   "id": "054f5945-472b-41e1-bb53-7b404768aa5e",
   "metadata": {},
   "outputs": [],
   "source": [
    "# importing libraries\n",
    "\n",
    "import pandas as pd\n",
    "import numpy as np\n",
    "import sqlite3\n",
    "import matplotlib.pyplot as plt\n",
    "import seaborn as sns\n",
    "import scipy.stats as stats\n",
    "\n",
    "%matplotlib inline"
   ]
  },
  {
   "cell_type": "markdown",
   "id": "9c3ab5eb-3f74-42ac-b60d-ad8e4ac0bb21",
   "metadata": {},
   "source": [
    "### Loading Data sets"
   ]
  },
  {
   "cell_type": "code",
   "execution_count": 2,
   "id": "0150d262-e13b-4eaa-ab97-5a893536c7de",
   "metadata": {},
   "outputs": [],
   "source": [
    "# loading datasets\n",
    "\n",
    "# reviews dataset\n",
    "file_path = 'data/rt.reviews.tsv'\n",
    "\n",
    "try:\n",
    "    review_df = pd.read_csv(file_path, sep='\\t', on_bad_lines='skip', encoding='ISO-8859-1')\n",
    "except pd.errors.ParserError as e:\n",
    "    print(f\"Error parsing file: {e}\")\n",
    "\n",
    "#Loading Movie_Info\n",
    "movie_info_df = pd.read_csv('data/rt.movie_info.tsv', sep='\\t', on_bad_lines='skip', encoding='ISO-8859-1')\n",
    "\n",
    "f'''\n",
    "# bom.movie_gross.csv\n",
    "path = 'data/bom.movie_gross.csv'\n",
    "movie_gross_df = pd.read_csv(path)\n",
    "'''\n",
    "\n",
    "# im.dbsqlite, we load only the 2 tables that are needed for the analysis. \n",
    "conn = sqlite3.connect('data/im.db')\n",
    "q = '''\n",
    "SELECT *\n",
    "    FROM movie_basics\n",
    "    JOIN movie_ratings\n",
    "    ON movie_basics.movie_ID = movie_ratings.movie_id\n",
    "'''\n",
    "imdb_df = pd.read_sql(q, conn)\n",
    "\n",
    "# Loading 'The Numbers' Dataset\n",
    "path = 'data/tn.movie_budgets.csv'\n",
    "movie_budgets_df = pd.read_csv(path)\n"
   ]
  },
  {
   "cell_type": "markdown",
   "id": "0939b0bd-b81f-4b5d-89a8-abceebea0d92",
   "metadata": {},
   "source": [
    "## Data understanding"
   ]
  },
  {
   "cell_type": "markdown",
   "id": "904133d8-5806-476e-b8f2-ba60e65ecde9",
   "metadata": {},
   "source": [
    "### 1. review_df"
   ]
  },
  {
   "cell_type": "markdown",
   "id": "51ae4aec-5220-486d-882d-b3af36989c37",
   "metadata": {},
   "source": [
    "## DATA CLEANING"
   ]
  },
  {
   "cell_type": "markdown",
   "id": "e70b5635-ecca-4621-bc50-fa19ce930353",
   "metadata": {},
   "source": [
    "#### 1.1. Merging review_df and Movie_info_df"
   ]
  },
  {
   "cell_type": "code",
   "execution_count": 3,
   "id": "bb3f0c6c-4a4e-4aa2-8339-543112e1bf19",
   "metadata": {},
   "outputs": [],
   "source": [
    "#merge the two dfs\n",
    "merged_df = pd.merge(review_df, movie_info_df, on='id', how='inner')"
   ]
  },
  {
   "cell_type": "markdown",
   "id": "ce3f2d01-e399-4b10-b4f6-84c632107ac7",
   "metadata": {},
   "source": [
    "#### 1.2 Dropping columns not used"
   ]
  },
  {
   "cell_type": "code",
   "execution_count": 4,
   "id": "376a2d02-b124-4589-b9f1-19dae38ba617",
   "metadata": {},
   "outputs": [],
   "source": [
    "# columns to drop\n",
    "columns_to_drop =['review', 'critic', 'top_critic', 'publisher', 'synopsis', 'writer', 'studio', 'currency', 'box_office']\n",
    "\n",
    "merged_df = merged_df.drop(columns_to_drop, axis=1)"
   ]
  },
  {
   "cell_type": "markdown",
   "id": "3c93c423-8ae2-487a-9673-fa90ec1e32ab",
   "metadata": {},
   "source": [
    "#### 1.3 Changing column names for rating_x (star_rating) and rating_y(MPAA_rating)"
   ]
  },
  {
   "cell_type": "code",
   "execution_count": 5,
   "id": "21d1cb0c-8b49-40b0-a6d2-7d493dbe4ba3",
   "metadata": {},
   "outputs": [
    {
     "data": {
      "text/html": [
       "<div>\n",
       "<style scoped>\n",
       "    .dataframe tbody tr th:only-of-type {\n",
       "        vertical-align: middle;\n",
       "    }\n",
       "\n",
       "    .dataframe tbody tr th {\n",
       "        vertical-align: top;\n",
       "    }\n",
       "\n",
       "    .dataframe thead th {\n",
       "        text-align: right;\n",
       "    }\n",
       "</style>\n",
       "<table border=\"1\" class=\"dataframe\">\n",
       "  <thead>\n",
       "    <tr style=\"text-align: right;\">\n",
       "      <th></th>\n",
       "      <th>id</th>\n",
       "      <th>star_rating</th>\n",
       "      <th>fresh</th>\n",
       "      <th>date</th>\n",
       "      <th>MPAA_rating</th>\n",
       "      <th>genre</th>\n",
       "      <th>director</th>\n",
       "      <th>theater_date</th>\n",
       "      <th>dvd_date</th>\n",
       "      <th>runtime</th>\n",
       "    </tr>\n",
       "  </thead>\n",
       "  <tbody>\n",
       "    <tr>\n",
       "      <th>0</th>\n",
       "      <td>3</td>\n",
       "      <td>3/5</td>\n",
       "      <td>fresh</td>\n",
       "      <td>November 10, 2018</td>\n",
       "      <td>R</td>\n",
       "      <td>Drama|Science Fiction and Fantasy</td>\n",
       "      <td>David Cronenberg</td>\n",
       "      <td>Aug 17, 2012</td>\n",
       "      <td>Jan 1, 2013</td>\n",
       "      <td>108 minutes</td>\n",
       "    </tr>\n",
       "    <tr>\n",
       "      <th>1</th>\n",
       "      <td>3</td>\n",
       "      <td>NaN</td>\n",
       "      <td>rotten</td>\n",
       "      <td>May 23, 2018</td>\n",
       "      <td>R</td>\n",
       "      <td>Drama|Science Fiction and Fantasy</td>\n",
       "      <td>David Cronenberg</td>\n",
       "      <td>Aug 17, 2012</td>\n",
       "      <td>Jan 1, 2013</td>\n",
       "      <td>108 minutes</td>\n",
       "    </tr>\n",
       "    <tr>\n",
       "      <th>2</th>\n",
       "      <td>3</td>\n",
       "      <td>NaN</td>\n",
       "      <td>fresh</td>\n",
       "      <td>January 4, 2018</td>\n",
       "      <td>R</td>\n",
       "      <td>Drama|Science Fiction and Fantasy</td>\n",
       "      <td>David Cronenberg</td>\n",
       "      <td>Aug 17, 2012</td>\n",
       "      <td>Jan 1, 2013</td>\n",
       "      <td>108 minutes</td>\n",
       "    </tr>\n",
       "    <tr>\n",
       "      <th>3</th>\n",
       "      <td>3</td>\n",
       "      <td>NaN</td>\n",
       "      <td>fresh</td>\n",
       "      <td>November 16, 2017</td>\n",
       "      <td>R</td>\n",
       "      <td>Drama|Science Fiction and Fantasy</td>\n",
       "      <td>David Cronenberg</td>\n",
       "      <td>Aug 17, 2012</td>\n",
       "      <td>Jan 1, 2013</td>\n",
       "      <td>108 minutes</td>\n",
       "    </tr>\n",
       "    <tr>\n",
       "      <th>4</th>\n",
       "      <td>3</td>\n",
       "      <td>NaN</td>\n",
       "      <td>fresh</td>\n",
       "      <td>October 12, 2017</td>\n",
       "      <td>R</td>\n",
       "      <td>Drama|Science Fiction and Fantasy</td>\n",
       "      <td>David Cronenberg</td>\n",
       "      <td>Aug 17, 2012</td>\n",
       "      <td>Jan 1, 2013</td>\n",
       "      <td>108 minutes</td>\n",
       "    </tr>\n",
       "  </tbody>\n",
       "</table>\n",
       "</div>"
      ],
      "text/plain": [
       "   id star_rating   fresh               date MPAA_rating  \\\n",
       "0   3         3/5   fresh  November 10, 2018           R   \n",
       "1   3         NaN  rotten       May 23, 2018           R   \n",
       "2   3         NaN   fresh    January 4, 2018           R   \n",
       "3   3         NaN   fresh  November 16, 2017           R   \n",
       "4   3         NaN   fresh   October 12, 2017           R   \n",
       "\n",
       "                               genre          director  theater_date  \\\n",
       "0  Drama|Science Fiction and Fantasy  David Cronenberg  Aug 17, 2012   \n",
       "1  Drama|Science Fiction and Fantasy  David Cronenberg  Aug 17, 2012   \n",
       "2  Drama|Science Fiction and Fantasy  David Cronenberg  Aug 17, 2012   \n",
       "3  Drama|Science Fiction and Fantasy  David Cronenberg  Aug 17, 2012   \n",
       "4  Drama|Science Fiction and Fantasy  David Cronenberg  Aug 17, 2012   \n",
       "\n",
       "      dvd_date      runtime  \n",
       "0  Jan 1, 2013  108 minutes  \n",
       "1  Jan 1, 2013  108 minutes  \n",
       "2  Jan 1, 2013  108 minutes  \n",
       "3  Jan 1, 2013  108 minutes  \n",
       "4  Jan 1, 2013  108 minutes  "
      ]
     },
     "execution_count": 5,
     "metadata": {},
     "output_type": "execute_result"
    }
   ],
   "source": [
    "merged_df.rename(columns={'rating_x': 'star_rating', 'rating_y': 'MPAA_rating'}, inplace=True)\n",
    "merged_df.head()"
   ]
  },
  {
   "cell_type": "markdown",
   "id": "c713ff6d-4a2a-46f8-81cd-6f04ab0bd59a",
   "metadata": {},
   "source": [
    "#### 1.4 checking and Dealing with missing values"
   ]
  },
  {
   "cell_type": "code",
   "execution_count": 6,
   "id": "f3eb0d6c-9370-4e5d-998a-8a68d7dca16c",
   "metadata": {},
   "outputs": [
    {
     "data": {
      "text/plain": [
       "id                  0\n",
       "star_rating     13517\n",
       "fresh               0\n",
       "date                0\n",
       "MPAA_rating        86\n",
       "genre              87\n",
       "director         5440\n",
       "theater_date     1226\n",
       "dvd_date         1226\n",
       "runtime           838\n",
       "dtype: int64"
      ]
     },
     "execution_count": 6,
     "metadata": {},
     "output_type": "execute_result"
    }
   ],
   "source": [
    "merged_df.isna().sum()"
   ]
  },
  {
   "cell_type": "markdown",
   "id": "5c058e71",
   "metadata": {},
   "source": [
    "#### 1.5 Standardizing star_rating"
   ]
  },
  {
   "cell_type": "code",
   "execution_count": 7,
   "id": "89f0e3eb",
   "metadata": {},
   "outputs": [],
   "source": [
    "# Function to convert star ratings to a 0-10 scale\n",
    "def convert_rating(rating):\n",
    "    if pd.isna(rating):\n",
    "        return np.nan\n",
    "    \n",
    "    # Handle mixed fractions (e.g., '3 1/2')\n",
    "    if ' ' in rating and '/' in rating:\n",
    "        whole, frac = rating.split(' ')\n",
    "        num, denom = frac.split('/')\n",
    "        return (float(whole) + float(num) / float(denom)) * 10 / (10 / float(denom))\n",
    "    \n",
    "    # Convert fraction ratings (e.g., '3/5')\n",
    "    if '/' in rating:\n",
    "        num, denom = rating.split('/')\n",
    "        num = float(num)\n",
    "        denom = float(denom)\n",
    "        return (num / denom) * 10\n",
    "    \n",
    "    # Convert letter grades\n",
    "    letter_grades = {\n",
    "        'A+': 10, 'A': 9.5, 'A-': 9,\n",
    "        'B+': 8.5, 'B': 8, 'B-': 7.5,\n",
    "        'C+': 7, 'C': 6.5, 'C-': 6,\n",
    "        'D+': 5.5, 'D': 5, 'D-': 4.5,\n",
    "        'F': 2.5, 'F+': 2, 'F-': 1.5\n",
    "    }\n",
    "    if rating in letter_grades:\n",
    "        return letter_grades[rating]\n",
    "    \n",
    "    # Handle unconventional ratings ('N', 'R', etc.)\n",
    "    unconventional_ratings = {\n",
    "        'N': np.nan, 'R': np.nan  # Treat as missing values or set specific values\n",
    "    }\n",
    "    if rating in unconventional_ratings:\n",
    "        return unconventional_ratings[rating]\n",
    "    \n",
    "    # Convert direct numeric ratings if within the range\n",
    "    try:\n",
    "        value = float(rating)\n",
    "        if 0 <= value <= 10:\n",
    "            return value\n",
    "    except ValueError:\n",
    "        pass\n",
    "    \n",
    "    return np.nan\n",
    "\n",
    "# Apply conversion function to the star_rating column\n",
    "merged_df['standardized_rating'] = merged_df['star_rating'].apply(convert_rating)\n",
    "\n",
    "# Display the DataFrame with standardized ratings\n",
    "# merged_df"
   ]
  },
  {
   "cell_type": "markdown",
   "id": "67fd8219",
   "metadata": {},
   "source": [
    "#### 1.5.1 fill missing standardized rating with mean"
   ]
  },
  {
   "cell_type": "code",
   "execution_count": 8,
   "id": "63bb8061",
   "metadata": {},
   "outputs": [
    {
     "name": "stderr",
     "output_type": "stream",
     "text": [
      "C:\\Users\\Floyed\\AppData\\Local\\Temp\\ipykernel_8328\\3497875837.py:3: FutureWarning: A value is trying to be set on a copy of a DataFrame or Series through chained assignment using an inplace method.\n",
      "The behavior will change in pandas 3.0. This inplace method will never work because the intermediate object on which we are setting values always behaves as a copy.\n",
      "\n",
      "For example, when doing 'df[col].method(value, inplace=True)', try using 'df.method({col: value}, inplace=True)' or df[col] = df[col].method(value) instead, to perform the operation inplace on the original object.\n",
      "\n",
      "\n",
      "  merged_df['standardized_rating'].fillna(merged_df['standardized_rating'].mean(), inplace=True)\n"
     ]
    }
   ],
   "source": [
    "# fill standardized_rating with mean\n",
    "\n",
    "merged_df['standardized_rating'].fillna(merged_df['standardized_rating'].mean(), inplace=True)"
   ]
  },
  {
   "cell_type": "code",
   "execution_count": 9,
   "id": "30b18f02",
   "metadata": {},
   "outputs": [],
   "source": [
    "# drop rows with missing values on columns `MPAA_rating` and `genre`\n",
    "merged_df = merged_df.dropna(subset=['MPAA_rating', 'genre'])"
   ]
  },
  {
   "cell_type": "code",
   "execution_count": 10,
   "id": "9d68168b",
   "metadata": {},
   "outputs": [],
   "source": [
    "# Drop the star_rating column because we have standardized rating\n",
    "\n",
    "merged_df = merged_df.drop('star_rating', axis=1)"
   ]
  },
  {
   "cell_type": "markdown",
   "id": "3d2951a7",
   "metadata": {},
   "source": [
    "#### 1.6 checking and dropping duplicates"
   ]
  },
  {
   "cell_type": "code",
   "execution_count": 11,
   "id": "8ef5f6a4",
   "metadata": {},
   "outputs": [],
   "source": [
    "# checking duplicates\n",
    "duplicate_rows = merged_df[merged_df.duplicated()]\n",
    "\n",
    "#dropping duplicates\n",
    "merged_df = merged_df.drop_duplicates()"
   ]
  },
  {
   "cell_type": "code",
   "execution_count": 12,
   "id": "d214977c",
   "metadata": {},
   "outputs": [
    {
     "data": {
      "text/plain": [
       "id                        0\n",
       "fresh                     0\n",
       "date                      0\n",
       "MPAA_rating               0\n",
       "genre                     0\n",
       "director               4105\n",
       "theater_date            954\n",
       "dvd_date                954\n",
       "runtime                 471\n",
       "standardized_rating       0\n",
       "dtype: int64"
      ]
     },
     "execution_count": 12,
     "metadata": {},
     "output_type": "execute_result"
    }
   ],
   "source": [
    "merged_df.isna().sum()"
   ]
  },
  {
   "cell_type": "markdown",
   "id": "2c5c3cb5",
   "metadata": {},
   "source": [
    "#### 1.7 handling missing values for director, theatre date, dvd_date, runtime"
   ]
  },
  {
   "cell_type": "code",
   "execution_count": 13,
   "id": "557a0416",
   "metadata": {},
   "outputs": [
    {
     "name": "stderr",
     "output_type": "stream",
     "text": [
      "C:\\Users\\Floyed\\AppData\\Local\\Temp\\ipykernel_8328\\3538672782.py:5: FutureWarning: A value is trying to be set on a copy of a DataFrame or Series through chained assignment using an inplace method.\n",
      "The behavior will change in pandas 3.0. This inplace method will never work because the intermediate object on which we are setting values always behaves as a copy.\n",
      "\n",
      "For example, when doing 'df[col].method(value, inplace=True)', try using 'df.method({col: value}, inplace=True)' or df[col] = df[col].method(value) instead, to perform the operation inplace on the original object.\n",
      "\n",
      "\n",
      "  merged_df['director'].fillna('Unknown', inplace=True)\n"
     ]
    }
   ],
   "source": [
    "# 1. Drop rows with missing values in specific columns\n",
    "merged_df.dropna(subset=['theater_date', 'dvd_date'], inplace=True)\n",
    "\n",
    "# 2. Fill with specific values\n",
    "merged_df['director'].fillna('Unknown', inplace=True)"
   ]
  },
  {
   "cell_type": "markdown",
   "id": "329c8794",
   "metadata": {},
   "source": [
    "#### 1.8 extract minutes in the runtime dataset"
   ]
  },
  {
   "cell_type": "code",
   "execution_count": 14,
   "id": "a96a8545",
   "metadata": {},
   "outputs": [
    {
     "name": "stderr",
     "output_type": "stream",
     "text": [
      "C:\\Users\\Floyed\\AppData\\Local\\Temp\\ipykernel_8328\\3809561258.py:5: FutureWarning: A value is trying to be set on a copy of a DataFrame or Series through chained assignment using an inplace method.\n",
      "The behavior will change in pandas 3.0. This inplace method will never work because the intermediate object on which we are setting values always behaves as a copy.\n",
      "\n",
      "For example, when doing 'df[col].method(value, inplace=True)', try using 'df.method({col: value}, inplace=True)' or df[col] = df[col].method(value) instead, to perform the operation inplace on the original object.\n",
      "\n",
      "\n",
      "  merged_df['runtime'].fillna(merged_df['runtime'].mean(), inplace=True)\n"
     ]
    }
   ],
   "source": [
    "# extract minutes in the runtime dataset\n",
    "merged_df['runtime'] = merged_df['runtime'].str.extract('(\\d+)').astype(float)\n",
    "\n",
    "# fill the missing runtime values with the mean\n",
    "merged_df['runtime'].fillna(merged_df['runtime'].mean(), inplace=True)"
   ]
  },
  {
   "cell_type": "code",
   "execution_count": 15,
   "id": "35a8039a",
   "metadata": {},
   "outputs": [
    {
     "name": "stdout",
     "output_type": "stream",
     "text": [
      "<class 'pandas.core.frame.DataFrame'>\n",
      "Index: 39453 entries, 0 to 54431\n",
      "Data columns (total 10 columns):\n",
      " #   Column               Non-Null Count  Dtype  \n",
      "---  ------               --------------  -----  \n",
      " 0   id                   39453 non-null  int64  \n",
      " 1   fresh                39453 non-null  object \n",
      " 2   date                 39453 non-null  object \n",
      " 3   MPAA_rating          39453 non-null  object \n",
      " 4   genre                39453 non-null  object \n",
      " 5   director             39453 non-null  object \n",
      " 6   theater_date         39453 non-null  object \n",
      " 7   dvd_date             39453 non-null  object \n",
      " 8   runtime              39453 non-null  float64\n",
      " 9   standardized_rating  39453 non-null  float64\n",
      "dtypes: float64(2), int64(1), object(7)\n",
      "memory usage: 3.3+ MB\n"
     ]
    }
   ],
   "source": [
    "merged_df.info()"
   ]
  },
  {
   "cell_type": "code",
   "execution_count": 16,
   "id": "e461dafc",
   "metadata": {},
   "outputs": [
    {
     "data": {
      "text/html": [
       "<div>\n",
       "<style scoped>\n",
       "    .dataframe tbody tr th:only-of-type {\n",
       "        vertical-align: middle;\n",
       "    }\n",
       "\n",
       "    .dataframe tbody tr th {\n",
       "        vertical-align: top;\n",
       "    }\n",
       "\n",
       "    .dataframe thead th {\n",
       "        text-align: right;\n",
       "    }\n",
       "</style>\n",
       "<table border=\"1\" class=\"dataframe\">\n",
       "  <thead>\n",
       "    <tr style=\"text-align: right;\">\n",
       "      <th></th>\n",
       "      <th>id</th>\n",
       "      <th>fresh</th>\n",
       "      <th>date</th>\n",
       "      <th>MPAA_rating</th>\n",
       "      <th>genre</th>\n",
       "      <th>director</th>\n",
       "      <th>theater_date</th>\n",
       "      <th>dvd_date</th>\n",
       "      <th>runtime</th>\n",
       "      <th>standardized_rating</th>\n",
       "    </tr>\n",
       "  </thead>\n",
       "  <tbody>\n",
       "    <tr>\n",
       "      <th>0</th>\n",
       "      <td>3</td>\n",
       "      <td>fresh</td>\n",
       "      <td>November 10, 2018</td>\n",
       "      <td>R</td>\n",
       "      <td>Drama|Science Fiction and Fantasy</td>\n",
       "      <td>David Cronenberg</td>\n",
       "      <td>Aug 17, 2012</td>\n",
       "      <td>Jan 1, 2013</td>\n",
       "      <td>108.0</td>\n",
       "      <td>6.000000</td>\n",
       "    </tr>\n",
       "    <tr>\n",
       "      <th>1</th>\n",
       "      <td>3</td>\n",
       "      <td>rotten</td>\n",
       "      <td>May 23, 2018</td>\n",
       "      <td>R</td>\n",
       "      <td>Drama|Science Fiction and Fantasy</td>\n",
       "      <td>David Cronenberg</td>\n",
       "      <td>Aug 17, 2012</td>\n",
       "      <td>Jan 1, 2013</td>\n",
       "      <td>108.0</td>\n",
       "      <td>6.391708</td>\n",
       "    </tr>\n",
       "    <tr>\n",
       "      <th>2</th>\n",
       "      <td>3</td>\n",
       "      <td>fresh</td>\n",
       "      <td>January 4, 2018</td>\n",
       "      <td>R</td>\n",
       "      <td>Drama|Science Fiction and Fantasy</td>\n",
       "      <td>David Cronenberg</td>\n",
       "      <td>Aug 17, 2012</td>\n",
       "      <td>Jan 1, 2013</td>\n",
       "      <td>108.0</td>\n",
       "      <td>6.391708</td>\n",
       "    </tr>\n",
       "    <tr>\n",
       "      <th>3</th>\n",
       "      <td>3</td>\n",
       "      <td>fresh</td>\n",
       "      <td>November 16, 2017</td>\n",
       "      <td>R</td>\n",
       "      <td>Drama|Science Fiction and Fantasy</td>\n",
       "      <td>David Cronenberg</td>\n",
       "      <td>Aug 17, 2012</td>\n",
       "      <td>Jan 1, 2013</td>\n",
       "      <td>108.0</td>\n",
       "      <td>6.391708</td>\n",
       "    </tr>\n",
       "    <tr>\n",
       "      <th>4</th>\n",
       "      <td>3</td>\n",
       "      <td>fresh</td>\n",
       "      <td>October 12, 2017</td>\n",
       "      <td>R</td>\n",
       "      <td>Drama|Science Fiction and Fantasy</td>\n",
       "      <td>David Cronenberg</td>\n",
       "      <td>Aug 17, 2012</td>\n",
       "      <td>Jan 1, 2013</td>\n",
       "      <td>108.0</td>\n",
       "      <td>6.391708</td>\n",
       "    </tr>\n",
       "  </tbody>\n",
       "</table>\n",
       "</div>"
      ],
      "text/plain": [
       "   id   fresh               date MPAA_rating  \\\n",
       "0   3   fresh  November 10, 2018           R   \n",
       "1   3  rotten       May 23, 2018           R   \n",
       "2   3   fresh    January 4, 2018           R   \n",
       "3   3   fresh  November 16, 2017           R   \n",
       "4   3   fresh   October 12, 2017           R   \n",
       "\n",
       "                               genre          director  theater_date  \\\n",
       "0  Drama|Science Fiction and Fantasy  David Cronenberg  Aug 17, 2012   \n",
       "1  Drama|Science Fiction and Fantasy  David Cronenberg  Aug 17, 2012   \n",
       "2  Drama|Science Fiction and Fantasy  David Cronenberg  Aug 17, 2012   \n",
       "3  Drama|Science Fiction and Fantasy  David Cronenberg  Aug 17, 2012   \n",
       "4  Drama|Science Fiction and Fantasy  David Cronenberg  Aug 17, 2012   \n",
       "\n",
       "      dvd_date  runtime  standardized_rating  \n",
       "0  Jan 1, 2013    108.0             6.000000  \n",
       "1  Jan 1, 2013    108.0             6.391708  \n",
       "2  Jan 1, 2013    108.0             6.391708  \n",
       "3  Jan 1, 2013    108.0             6.391708  \n",
       "4  Jan 1, 2013    108.0             6.391708  "
      ]
     },
     "execution_count": 16,
     "metadata": {},
     "output_type": "execute_result"
    }
   ],
   "source": [
    "merged_df.head()"
   ]
  },
  {
   "cell_type": "markdown",
   "id": "e793ef1a",
   "metadata": {},
   "source": [
    "### 2. movie_budgets_df "
   ]
  },
  {
   "cell_type": "code",
   "execution_count": 17,
   "id": "6c683b59",
   "metadata": {},
   "outputs": [
    {
     "name": "stdout",
     "output_type": "stream",
     "text": [
      "<class 'pandas.core.frame.DataFrame'>\n",
      "RangeIndex: 5782 entries, 0 to 5781\n",
      "Data columns (total 6 columns):\n",
      " #   Column             Non-Null Count  Dtype \n",
      "---  ------             --------------  ----- \n",
      " 0   id                 5782 non-null   int64 \n",
      " 1   release_date       5782 non-null   object\n",
      " 2   movie              5782 non-null   object\n",
      " 3   production_budget  5782 non-null   object\n",
      " 4   domestic_gross     5782 non-null   object\n",
      " 5   worldwide_gross    5782 non-null   object\n",
      "dtypes: int64(1), object(5)\n",
      "memory usage: 271.2+ KB\n"
     ]
    }
   ],
   "source": [
    "movie_budgets_df.info()"
   ]
  },
  {
   "cell_type": "markdown",
   "id": "3149a3a8",
   "metadata": {},
   "source": [
    "#### 2.1 checking for null values"
   ]
  },
  {
   "cell_type": "code",
   "execution_count": 18,
   "id": "539205da",
   "metadata": {},
   "outputs": [
    {
     "data": {
      "text/plain": [
       "id                   0\n",
       "release_date         0\n",
       "movie                0\n",
       "production_budget    0\n",
       "domestic_gross       0\n",
       "worldwide_gross      0\n",
       "dtype: int64"
      ]
     },
     "execution_count": 18,
     "metadata": {},
     "output_type": "execute_result"
    }
   ],
   "source": [
    "movie_budgets_df.isna().sum()"
   ]
  },
  {
   "cell_type": "markdown",
   "id": "1f0e305a",
   "metadata": {},
   "source": [
    "#### 2.2 checking for duplicates"
   ]
  },
  {
   "cell_type": "code",
   "execution_count": 19,
   "id": "cd63e6d5",
   "metadata": {},
   "outputs": [
    {
     "data": {
      "text/html": [
       "<div>\n",
       "<style scoped>\n",
       "    .dataframe tbody tr th:only-of-type {\n",
       "        vertical-align: middle;\n",
       "    }\n",
       "\n",
       "    .dataframe tbody tr th {\n",
       "        vertical-align: top;\n",
       "    }\n",
       "\n",
       "    .dataframe thead th {\n",
       "        text-align: right;\n",
       "    }\n",
       "</style>\n",
       "<table border=\"1\" class=\"dataframe\">\n",
       "  <thead>\n",
       "    <tr style=\"text-align: right;\">\n",
       "      <th></th>\n",
       "      <th>id</th>\n",
       "      <th>release_date</th>\n",
       "      <th>movie</th>\n",
       "      <th>production_budget</th>\n",
       "      <th>domestic_gross</th>\n",
       "      <th>worldwide_gross</th>\n",
       "    </tr>\n",
       "  </thead>\n",
       "  <tbody>\n",
       "  </tbody>\n",
       "</table>\n",
       "</div>"
      ],
      "text/plain": [
       "Empty DataFrame\n",
       "Columns: [id, release_date, movie, production_budget, domestic_gross, worldwide_gross]\n",
       "Index: []"
      ]
     },
     "execution_count": 19,
     "metadata": {},
     "output_type": "execute_result"
    }
   ],
   "source": [
    "#  checking duplicates\n",
    "\n",
    "duplicated_rows = movie_budgets_df[movie_budgets_df.duplicated()]\n",
    "duplicated_rows"
   ]
  },
  {
   "cell_type": "markdown",
   "id": "f54c346a",
   "metadata": {},
   "source": [
    "#### 2.3 standardizing date time and removing the dolar sign from the `production_budget` and other cash columns"
   ]
  },
  {
   "cell_type": "code",
   "execution_count": 20,
   "id": "570f8d54",
   "metadata": {},
   "outputs": [
    {
     "data": {
      "text/html": [
       "<div>\n",
       "<style scoped>\n",
       "    .dataframe tbody tr th:only-of-type {\n",
       "        vertical-align: middle;\n",
       "    }\n",
       "\n",
       "    .dataframe tbody tr th {\n",
       "        vertical-align: top;\n",
       "    }\n",
       "\n",
       "    .dataframe thead th {\n",
       "        text-align: right;\n",
       "    }\n",
       "</style>\n",
       "<table border=\"1\" class=\"dataframe\">\n",
       "  <thead>\n",
       "    <tr style=\"text-align: right;\">\n",
       "      <th></th>\n",
       "      <th>id</th>\n",
       "      <th>release_date</th>\n",
       "      <th>movie</th>\n",
       "      <th>production_budget</th>\n",
       "      <th>domestic_gross</th>\n",
       "      <th>worldwide_gross</th>\n",
       "    </tr>\n",
       "  </thead>\n",
       "  <tbody>\n",
       "    <tr>\n",
       "      <th>0</th>\n",
       "      <td>1</td>\n",
       "      <td>2009-12-18</td>\n",
       "      <td>Avatar</td>\n",
       "      <td>425000000.0</td>\n",
       "      <td>760507625.0</td>\n",
       "      <td>2.776345e+09</td>\n",
       "    </tr>\n",
       "    <tr>\n",
       "      <th>1</th>\n",
       "      <td>2</td>\n",
       "      <td>2011-05-20</td>\n",
       "      <td>Pirates of the Caribbean: On Stranger Tides</td>\n",
       "      <td>410600000.0</td>\n",
       "      <td>241063875.0</td>\n",
       "      <td>1.045664e+09</td>\n",
       "    </tr>\n",
       "    <tr>\n",
       "      <th>2</th>\n",
       "      <td>3</td>\n",
       "      <td>2019-06-07</td>\n",
       "      <td>Dark Phoenix</td>\n",
       "      <td>350000000.0</td>\n",
       "      <td>42762350.0</td>\n",
       "      <td>1.497624e+08</td>\n",
       "    </tr>\n",
       "    <tr>\n",
       "      <th>3</th>\n",
       "      <td>4</td>\n",
       "      <td>2015-05-01</td>\n",
       "      <td>Avengers: Age of Ultron</td>\n",
       "      <td>330600000.0</td>\n",
       "      <td>459005868.0</td>\n",
       "      <td>1.403014e+09</td>\n",
       "    </tr>\n",
       "    <tr>\n",
       "      <th>4</th>\n",
       "      <td>5</td>\n",
       "      <td>2017-12-15</td>\n",
       "      <td>Star Wars Ep. VIII: The Last Jedi</td>\n",
       "      <td>317000000.0</td>\n",
       "      <td>620181382.0</td>\n",
       "      <td>1.316722e+09</td>\n",
       "    </tr>\n",
       "    <tr>\n",
       "      <th>...</th>\n",
       "      <td>...</td>\n",
       "      <td>...</td>\n",
       "      <td>...</td>\n",
       "      <td>...</td>\n",
       "      <td>...</td>\n",
       "      <td>...</td>\n",
       "    </tr>\n",
       "    <tr>\n",
       "      <th>5777</th>\n",
       "      <td>78</td>\n",
       "      <td>2018-12-31</td>\n",
       "      <td>Red 11</td>\n",
       "      <td>7000.0</td>\n",
       "      <td>0.0</td>\n",
       "      <td>0.000000e+00</td>\n",
       "    </tr>\n",
       "    <tr>\n",
       "      <th>5778</th>\n",
       "      <td>79</td>\n",
       "      <td>1999-04-02</td>\n",
       "      <td>Following</td>\n",
       "      <td>6000.0</td>\n",
       "      <td>48482.0</td>\n",
       "      <td>2.404950e+05</td>\n",
       "    </tr>\n",
       "    <tr>\n",
       "      <th>5779</th>\n",
       "      <td>80</td>\n",
       "      <td>2005-07-13</td>\n",
       "      <td>Return to the Land of Wonders</td>\n",
       "      <td>5000.0</td>\n",
       "      <td>1338.0</td>\n",
       "      <td>1.338000e+03</td>\n",
       "    </tr>\n",
       "    <tr>\n",
       "      <th>5780</th>\n",
       "      <td>81</td>\n",
       "      <td>2015-09-29</td>\n",
       "      <td>A Plague So Pleasant</td>\n",
       "      <td>1400.0</td>\n",
       "      <td>0.0</td>\n",
       "      <td>0.000000e+00</td>\n",
       "    </tr>\n",
       "    <tr>\n",
       "      <th>5781</th>\n",
       "      <td>82</td>\n",
       "      <td>2005-08-05</td>\n",
       "      <td>My Date With Drew</td>\n",
       "      <td>1100.0</td>\n",
       "      <td>181041.0</td>\n",
       "      <td>1.810410e+05</td>\n",
       "    </tr>\n",
       "  </tbody>\n",
       "</table>\n",
       "<p>5782 rows × 6 columns</p>\n",
       "</div>"
      ],
      "text/plain": [
       "      id release_date                                        movie  \\\n",
       "0      1   2009-12-18                                       Avatar   \n",
       "1      2   2011-05-20  Pirates of the Caribbean: On Stranger Tides   \n",
       "2      3   2019-06-07                                 Dark Phoenix   \n",
       "3      4   2015-05-01                      Avengers: Age of Ultron   \n",
       "4      5   2017-12-15            Star Wars Ep. VIII: The Last Jedi   \n",
       "...   ..          ...                                          ...   \n",
       "5777  78   2018-12-31                                       Red 11   \n",
       "5778  79   1999-04-02                                    Following   \n",
       "5779  80   2005-07-13                Return to the Land of Wonders   \n",
       "5780  81   2015-09-29                         A Plague So Pleasant   \n",
       "5781  82   2005-08-05                            My Date With Drew   \n",
       "\n",
       "      production_budget  domestic_gross  worldwide_gross  \n",
       "0           425000000.0     760507625.0     2.776345e+09  \n",
       "1           410600000.0     241063875.0     1.045664e+09  \n",
       "2           350000000.0      42762350.0     1.497624e+08  \n",
       "3           330600000.0     459005868.0     1.403014e+09  \n",
       "4           317000000.0     620181382.0     1.316722e+09  \n",
       "...                 ...             ...              ...  \n",
       "5777             7000.0             0.0     0.000000e+00  \n",
       "5778             6000.0         48482.0     2.404950e+05  \n",
       "5779             5000.0          1338.0     1.338000e+03  \n",
       "5780             1400.0             0.0     0.000000e+00  \n",
       "5781             1100.0        181041.0     1.810410e+05  \n",
       "\n",
       "[5782 rows x 6 columns]"
      ]
     },
     "execution_count": 20,
     "metadata": {},
     "output_type": "execute_result"
    }
   ],
   "source": [
    "# Convert 'release_date' to datetime\n",
    "movie_budgets_df['release_date'] = pd.to_datetime(movie_budgets_df['release_date'])\n",
    "\n",
    "# Function to remove dollar signs and commas and convert to numeric\n",
    "def clean_currency(column):\n",
    "    return column.replace('[\\$,]', '', regex=True).astype(float)\n",
    "\n",
    "# Apply the function to the budget and gross columns\n",
    "movie_budgets_df['production_budget'] = clean_currency(movie_budgets_df['production_budget'])\n",
    "movie_budgets_df['domestic_gross'] = clean_currency(movie_budgets_df['domestic_gross'])\n",
    "movie_budgets_df['worldwide_gross'] = clean_currency(movie_budgets_df['worldwide_gross'])\n",
    "\n",
    "movie_budgets_df"
   ]
  },
  {
   "cell_type": "markdown",
   "id": "33d77720",
   "metadata": {},
   "source": [
    "### 3. imdb data set"
   ]
  },
  {
   "cell_type": "code",
   "execution_count": 21,
   "id": "7c694d76",
   "metadata": {},
   "outputs": [
    {
     "name": "stdout",
     "output_type": "stream",
     "text": [
      "<class 'pandas.core.frame.DataFrame'>\n",
      "RangeIndex: 73856 entries, 0 to 73855\n",
      "Data columns (total 9 columns):\n",
      " #   Column           Non-Null Count  Dtype  \n",
      "---  ------           --------------  -----  \n",
      " 0   movie_id         73856 non-null  object \n",
      " 1   primary_title    73856 non-null  object \n",
      " 2   original_title   73856 non-null  object \n",
      " 3   start_year       73856 non-null  int64  \n",
      " 4   runtime_minutes  66236 non-null  float64\n",
      " 5   genres           73052 non-null  object \n",
      " 6   movie_id         73856 non-null  object \n",
      " 7   averagerating    73856 non-null  float64\n",
      " 8   numvotes         73856 non-null  int64  \n",
      "dtypes: float64(2), int64(2), object(5)\n",
      "memory usage: 5.1+ MB\n"
     ]
    }
   ],
   "source": [
    "imdb_df.info()"
   ]
  },
  {
   "cell_type": "markdown",
   "id": "a107038e",
   "metadata": {},
   "source": [
    "#### 3.1 checking for duplicates"
   ]
  },
  {
   "cell_type": "code",
   "execution_count": 22,
   "id": "cd389a41",
   "metadata": {},
   "outputs": [
    {
     "data": {
      "text/html": [
       "<div>\n",
       "<style scoped>\n",
       "    .dataframe tbody tr th:only-of-type {\n",
       "        vertical-align: middle;\n",
       "    }\n",
       "\n",
       "    .dataframe tbody tr th {\n",
       "        vertical-align: top;\n",
       "    }\n",
       "\n",
       "    .dataframe thead th {\n",
       "        text-align: right;\n",
       "    }\n",
       "</style>\n",
       "<table border=\"1\" class=\"dataframe\">\n",
       "  <thead>\n",
       "    <tr style=\"text-align: right;\">\n",
       "      <th></th>\n",
       "      <th>movie_id</th>\n",
       "      <th>primary_title</th>\n",
       "      <th>original_title</th>\n",
       "      <th>start_year</th>\n",
       "      <th>runtime_minutes</th>\n",
       "      <th>genres</th>\n",
       "      <th>movie_id</th>\n",
       "      <th>averagerating</th>\n",
       "      <th>numvotes</th>\n",
       "    </tr>\n",
       "  </thead>\n",
       "  <tbody>\n",
       "  </tbody>\n",
       "</table>\n",
       "</div>"
      ],
      "text/plain": [
       "Empty DataFrame\n",
       "Columns: [movie_id, primary_title, original_title, start_year, runtime_minutes, genres, movie_id, averagerating, numvotes]\n",
       "Index: []"
      ]
     },
     "execution_count": 22,
     "metadata": {},
     "output_type": "execute_result"
    }
   ],
   "source": [
    "# checking duplicates\n",
    "\n",
    "dup_rows = imdb_df[imdb_df.duplicated]\n",
    "dup_rows"
   ]
  },
  {
   "cell_type": "markdown",
   "id": "a1459362",
   "metadata": {},
   "source": [
    "#### 3.2 checking and dealing with null"
   ]
  },
  {
   "cell_type": "code",
   "execution_count": 23,
   "id": "66bdc415",
   "metadata": {},
   "outputs": [],
   "source": [
    "# drop null values on runtime and genres rows\n",
    "\n",
    "imdb_df = imdb_df.dropna(subset = ['runtime_minutes', 'genres'], )"
   ]
  },
  {
   "cell_type": "code",
   "execution_count": 24,
   "id": "e1ba8973",
   "metadata": {},
   "outputs": [
    {
     "data": {
      "text/plain": [
       "movie_id           0\n",
       "primary_title      0\n",
       "original_title     0\n",
       "start_year         0\n",
       "runtime_minutes    0\n",
       "genres             0\n",
       "movie_id           0\n",
       "averagerating      0\n",
       "numvotes           0\n",
       "dtype: int64"
      ]
     },
     "execution_count": 24,
     "metadata": {},
     "output_type": "execute_result"
    }
   ],
   "source": [
    "imdb_df.isna().sum()"
   ]
  },
  {
   "cell_type": "markdown",
   "id": "6bbcd89b-0550-4093-9676-e704cc720efa",
   "metadata": {},
   "source": [
    "### Visualization"
   ]
  },
  {
   "cell_type": "markdown",
   "id": "c63e0cbf",
   "metadata": {},
   "source": [
    "#### 1. Univariate"
   ]
  },
  {
   "cell_type": "markdown",
   "id": "914c3ad3",
   "metadata": {},
   "source": [
    "##### plot `fresh` from `merge_df` distribution"
   ]
  },
  {
   "cell_type": "code",
   "execution_count": 25,
   "id": "ff5e2699",
   "metadata": {},
   "outputs": [
    {
     "data": {
      "image/png": "[encoded data removed]",
      "text/plain": [
       "<Figure size 800x500 with 1 Axes>"
      ]
     },
     "metadata": {},
     "output_type": "display_data"
    }
   ],
   "source": [
    "frequencies = merged_df['fresh'].value_counts()\n",
    "\n",
    "# Plotting the pie chart\n",
    "plt.figure(figsize=(8, 5))\n",
    "plt.pie(frequencies, labels=frequencies.index, autopct='%1.1f%%', startangle=140)\n",
    "plt.title('Rotten vs Fresh')\n",
    "plt.show()"
   ]
  },
  {
   "cell_type": "markdown",
   "id": "aed07df6",
   "metadata": {},
   "source": [
    "#### plot of cost distribution "
   ]
  },
  {
   "cell_type": "code",
   "execution_count": 41,
   "id": "3f5f7cc7",
   "metadata": {},
   "outputs": [
    {
     "name": "stderr",
     "output_type": "stream",
     "text": [
      "c:\\Users\\Floyed\\anaconda3\\envs\\learn-env\\Lib\\site-packages\\seaborn\\_oldcore.py:1119: FutureWarning: use_inf_as_na option is deprecated and will be removed in a future version. Convert inf values to NaN before operating instead.\n",
      "  with pd.option_context('mode.use_inf_as_na', True):\n",
      "c:\\Users\\Floyed\\anaconda3\\envs\\learn-env\\Lib\\site-packages\\seaborn\\_oldcore.py:1119: FutureWarning: use_inf_as_na option is deprecated and will be removed in a future version. Convert inf values to NaN before operating instead.\n",
      "  with pd.option_context('mode.use_inf_as_na', True):\n",
      "c:\\Users\\Floyed\\anaconda3\\envs\\learn-env\\Lib\\site-packages\\seaborn\\_oldcore.py:1119: FutureWarning: use_inf_as_na option is deprecated and will be removed in a future version. Convert inf values to NaN before operating instead.\n",
      "  with pd.option_context('mode.use_inf_as_na', True):\n"
     ]
    },
    {
     "data": {
      "image/png": "[encoded data removed]",
      "text/plain": [
       "<Figure size 800x500 with 1 Axes>"
      ]
     },
     "metadata": {},
     "output_type": "display_data"
    }
   ],
   "source": [
    "plt.figure(figsize=(8, 5))\n",
    "sns.kdeplot(movie_budgets_df['production_budget'], label='production_budget')\n",
    "sns.kdeplot(movie_budgets_df['domestic_gross'], label='domestic gross')\n",
    "sns.kdeplot(movie_budgets_df['worldwide_gross'], label='worldwide gross')\n",
    "plt.xlabel('Amount')\n",
    "plt.legend()\n",
    "plt.show()"
   ]
  },
  {
   "cell_type": "markdown",
   "id": "0a342db1",
   "metadata": {},
   "source": [
    "###  `imdb` data analysis"
   ]
  },
  {
   "cell_type": "code",
   "execution_count": 31,
   "id": "44c3948d-a806-4208-b383-7bc53b9cf0ba",
   "metadata": {},
   "outputs": [
    {
     "data": {
      "text/html": [
       "<div>\n",
       "<style scoped>\n",
       "    .dataframe tbody tr th:only-of-type {\n",
       "        vertical-align: middle;\n",
       "    }\n",
       "\n",
       "    .dataframe tbody tr th {\n",
       "        vertical-align: top;\n",
       "    }\n",
       "\n",
       "    .dataframe thead th {\n",
       "        text-align: right;\n",
       "    }\n",
       "</style>\n",
       "<table border=\"1\" class=\"dataframe\">\n",
       "  <thead>\n",
       "    <tr style=\"text-align: right;\">\n",
       "      <th></th>\n",
       "      <th>movie_id</th>\n",
       "      <th>primary_title</th>\n",
       "      <th>original_title</th>\n",
       "      <th>start_year</th>\n",
       "      <th>runtime_minutes</th>\n",
       "      <th>genres</th>\n",
       "      <th>movie_id</th>\n",
       "      <th>averagerating</th>\n",
       "      <th>numvotes</th>\n",
       "    </tr>\n",
       "  </thead>\n",
       "  <tbody>\n",
       "    <tr>\n",
       "      <th>0</th>\n",
       "      <td>tt0063540</td>\n",
       "      <td>Sunghursh</td>\n",
       "      <td>Sunghursh</td>\n",
       "      <td>2013</td>\n",
       "      <td>175.0</td>\n",
       "      <td>Action,Crime,Drama</td>\n",
       "      <td>tt0063540</td>\n",
       "      <td>7.0</td>\n",
       "      <td>77</td>\n",
       "    </tr>\n",
       "    <tr>\n",
       "      <th>1</th>\n",
       "      <td>tt0066787</td>\n",
       "      <td>One Day Before the Rainy Season</td>\n",
       "      <td>Ashad Ka Ek Din</td>\n",
       "      <td>2019</td>\n",
       "      <td>114.0</td>\n",
       "      <td>Biography,Drama</td>\n",
       "      <td>tt0066787</td>\n",
       "      <td>7.2</td>\n",
       "      <td>43</td>\n",
       "    </tr>\n",
       "  </tbody>\n",
       "</table>\n",
       "</div>"
      ],
      "text/plain": [
       "    movie_id                    primary_title   original_title  start_year  \\\n",
       "0  tt0063540                        Sunghursh        Sunghursh        2013   \n",
       "1  tt0066787  One Day Before the Rainy Season  Ashad Ka Ek Din        2019   \n",
       "\n",
       "   runtime_minutes              genres   movie_id  averagerating  numvotes  \n",
       "0            175.0  Action,Crime,Drama  tt0063540            7.0        77  \n",
       "1            114.0     Biography,Drama  tt0066787            7.2        43  "
      ]
     },
     "execution_count": 31,
     "metadata": {},
     "output_type": "execute_result"
    }
   ],
   "source": [
    "imdb_df.head(2)"
   ]
  },
  {
   "cell_type": "markdown",
   "id": "3ede9045",
   "metadata": {},
   "source": [
    "#### checking genre combinations"
   ]
  },
  {
   "cell_type": "code",
   "execution_count": 28,
   "id": "68e56f7b",
   "metadata": {},
   "outputs": [
    {
     "data": {
      "text/plain": [
       "array(['Action,Crime,Drama', 'Biography,Drama', 'Drama',\n",
       "       'Comedy,Drama,Fantasy', 'Adventure,Animation,Comedy', 'History',\n",
       "       'Documentary', 'Animation,Drama,History', 'Drama,Mystery',\n",
       "       'Action,Animation,Comedy', 'Biography,Comedy,Drama',\n",
       "       'Action,Drama', 'Documentary,History', 'Sci-Fi', 'Comedy',\n",
       "       'Thriller', 'Adventure,Animation,Sci-Fi', 'Drama,Horror',\n",
       "       'Drama,Mystery,Thriller', 'Drama,Family',\n",
       "       'Adventure,Comedy,Romance', 'Comedy,Drama',\n",
       "       'Adventure,Drama,Romance', 'Biography', 'Horror',\n",
       "       'Adventure,Comedy,Drama', 'Drama,Sci-Fi,Thriller', 'Action',\n",
       "       'Comedy,Drama,Romance', 'Action,Adventure,Sci-Fi', 'Crime,Drama',\n",
       "       'Comedy,Family', 'Adventure', 'Drama,History,War',\n",
       "       'Action,Thriller', 'Comedy,Crime', 'Crime,Drama,Thriller',\n",
       "       'Action,Sci-Fi,Thriller', 'Fantasy', 'Drama,Mystery,Sci-Fi',\n",
       "       'Biography,Drama,History', 'Action,Comedy,Crime',\n",
       "       'Action,Adventure,Thriller', 'Horror,Mystery,Thriller',\n",
       "       'Action,Drama,Family', 'Comedy,Drama,Music',\n",
       "       'Drama,Fantasy,Horror', 'Drama,Romance,Sci-Fi', 'Drama,Romance',\n",
       "       'Drama,Romance,War', 'Crime,Drama,Horror', 'Action,Comedy,Fantasy',\n",
       "       'Action,Adventure,Comedy', 'Action,Adventure,Animation',\n",
       "       'Action,Adventure,Fantasy', 'Comedy,Romance',\n",
       "       'Biography,Drama,Sport', 'Comedy,Drama,Sci-Fi',\n",
       "       'Adventure,Drama,Fantasy', 'Horror,Thriller',\n",
       "       'Action,Crime,Thriller', 'Crime,Thriller',\n",
       "       'Adventure,Comedy,Western', 'Drama,Horror,Sci-Fi',\n",
       "       'Drama,Thriller', 'Mystery,Thriller', 'Comedy,Horror',\n",
       "       'Adventure,Drama,Mystery', 'Drama,Fantasy',\n",
       "       'Fantasy,Horror,Thriller', 'Drama,Sport', 'Action,Adventure,Crime',\n",
       "       'Biography,Documentary,History', 'Drama,Music,Romance',\n",
       "       'Family,Sport', 'Adventure,Comedy', 'Action,Adventure,Drama',\n",
       "       'Adventure,Drama,History', 'Comedy,Crime,Drama',\n",
       "       'Drama,History,Romance', 'Biography,Drama,Music',\n",
       "       'Adventure,Comedy,Family', 'Horror,Mystery,Romance',\n",
       "       'Action,Adventure,Horror', 'Animation,Family',\n",
       "       'Drama,Horror,Mystery', 'Biography,Documentary,Music',\n",
       "       'Animation,Family,Fantasy', 'Adventure,Comedy,Sci-Fi',\n",
       "       'Family,Fantasy', 'Horror,Mystery', 'Drama,Fantasy,Thriller',\n",
       "       'Documentary,Music', 'Comedy,Horror,Thriller',\n",
       "       'Action,Drama,Horror', 'Animation,Drama', 'Biography,Comedy,Crime',\n",
       "       'Drama,Mystery,War', 'Adventure,Comedy,Fantasy',\n",
       "       'Biography,Drama,Romance', 'Documentary,Drama',\n",
       "       'Biography,Crime,Drama', 'Comedy,Family,Fantasy',\n",
       "       'Adventure,Animation,Family', 'Drama,Music',\n",
       "       'Adventure,Family,Fantasy', 'Drama,War', 'Adventure,Drama,Sci-Fi',\n",
       "       'Comedy,Music,Romance', 'Action,Drama,Fantasy',\n",
       "       'Action,Horror,Thriller', 'Action,Biography,Crime',\n",
       "       'Crime,Drama,Romance', 'Animation,Comedy,Family', 'Comedy,Sci-Fi',\n",
       "       'Drama,Fantasy,Mystery', 'Adventure,Crime,Drama',\n",
       "       'Animation,Comedy,Crime', 'Sci-Fi,Thriller',\n",
       "       'Horror,Sci-Fi,Thriller', 'Drama,Horror,Romance', 'Romance',\n",
       "       'Adventure,Horror,Thriller', 'Comedy,Crime,Mystery',\n",
       "       'Action,Animation,Drama', 'Mystery', 'Action,Crime,Horror',\n",
       "       'Musical', 'Adventure,Drama,Thriller', 'Comedy,Musical,Romance',\n",
       "       'Action,Drama,Thriller', 'Animation,Comedy,Fantasy',\n",
       "       'Horror,Mystery,Sci-Fi', 'Adventure,Drama,Horror',\n",
       "       'Animation,Comedy,Sci-Fi', 'Action,Horror,Sci-Fi',\n",
       "       'Adventure,Fantasy,Mystery', 'Drama,Sci-Fi', 'Mystery,Romance',\n",
       "       'Action,Adventure,Family', 'Comedy,Crime,Thriller',\n",
       "       'Action,Mystery,Thriller', 'Action,Drama,Sci-Fi',\n",
       "       'Crime,Documentary', 'Crime,Drama,History',\n",
       "       'Animation,Crime,Music', 'Action,Mystery,Sci-Fi',\n",
       "       'Adventure,Drama,Family', 'Drama,Fantasy,History',\n",
       "       'Biography,Drama,Thriller', 'Crime', 'Comedy,Horror,Sci-Fi',\n",
       "       'Action,Biography,Drama', 'Action,Comedy,Horror', 'Comedy,Fantasy',\n",
       "       'Action,Crime', 'Family', 'Adventure,Fantasy',\n",
       "       'Biography,Drama,Family', 'Adventure,Animation,Fantasy',\n",
       "       'Comedy,Drama,Family', 'Biography,Documentary',\n",
       "       'Documentary,History,War', 'Horror,Romance,Thriller', 'Animation',\n",
       "       'Adventure,Drama', 'Documentary,Sport', 'Crime,Mystery,Thriller',\n",
       "       'Action,Fantasy,History', 'Western', 'Sport', 'Comedy,Drama,Sport',\n",
       "       'Action,Comedy', 'Action,Fantasy,Western', 'Action,Comedy,Sci-Fi',\n",
       "       'Adventure,Horror,Sci-Fi', 'Fantasy,Horror,Mystery', 'Music',\n",
       "       'Comedy,Thriller', 'Action,Fantasy,Horror',\n",
       "       'Action,Comedy,Romance', 'Comedy,Drama,Mystery',\n",
       "       'Action,Family,Fantasy', 'Action,History', 'Biography,Drama,War',\n",
       "       'Documentary,War', 'Animation,Biography',\n",
       "       'Documentary,Drama,Sci-Fi', 'Action,Crime,Sci-Fi',\n",
       "       'Fantasy,Horror', 'Drama,History', 'Comedy,Horror,Musical',\n",
       "       'Action,Animation,Fantasy', 'Action,Fantasy,Thriller',\n",
       "       'Biography,Drama,Fantasy', 'Comedy,Fantasy,Horror',\n",
       "       'Action,Crime,Mystery', 'Drama,Horror,Thriller',\n",
       "       'Crime,Drama,Mystery', 'Crime,Horror,Thriller',\n",
       "       'Drama,Romance,Thriller', 'Action,Comedy,Documentary',\n",
       "       'Comedy,Documentary', 'Crime,Drama,Music', 'Biography,History',\n",
       "       'Drama,Music,Musical', 'Action,Adventure', 'Action,Horror,Mystery',\n",
       "       'Documentary,Drama,History', 'Drama,Musical',\n",
       "       'Adventure,Comedy,Crime', 'Drama,Fantasy,Romance',\n",
       "       'Action,Drama,Western', 'Comedy,Musical', 'Crime,Sport,Thriller',\n",
       "       'Animation,Comedy,Drama', 'Adventure,Biography,Comedy',\n",
       "       'Adventure,Animation,Drama', 'Adventure,Animation',\n",
       "       'Family,Fantasy,Horror', 'Crime,Drama,Fantasy',\n",
       "       'Action,Drama,Romance', 'Adventure,Biography',\n",
       "       'Action,Adventure,Western', 'Adventure,Biography,Drama',\n",
       "       'Action,Sci-Fi', 'Mystery,Sci-Fi,Thriller',\n",
       "       'Action,Adventure,History', 'Comedy,Drama,Horror',\n",
       "       'Documentary,Family,News', 'Comedy,Family,Romance',\n",
       "       'Adventure,Documentary', 'Adventure,Comedy,Music',\n",
       "       'Crime,Drama,War', 'Comedy,Western', 'Drama,Musical,War',\n",
       "       'Animation,Crime,Drama', 'Drama,Mystery,Romance',\n",
       "       'Crime,Documentary,History', 'Action,Drama,History',\n",
       "       'Horror,Sci-Fi', 'Documentary,History,Sport', 'Adventure,Family',\n",
       "       'Action,Comedy,Drama', 'Action,Fantasy,War',\n",
       "       'Comedy,Drama,History', 'Action,Drama,Mystery', 'Comedy,Sport',\n",
       "       'Comedy,Mystery', 'Drama,Thriller,Western', 'Action,Drama,War',\n",
       "       'Adventure,Comedy,Horror', 'Action,Comedy,Family',\n",
       "       'Comedy,Crime,Music', 'Comedy,Crime,Romance',\n",
       "       'Adventure,Drama,Sport', 'Action,Drama,Sport',\n",
       "       'Comedy,Fantasy,Romance', 'Drama,Fantasy,Sci-Fi',\n",
       "       'Drama,Family,Fantasy', 'Sci-Fi,Western',\n",
       "       'Adventure,Biography,Documentary', 'Crime,Documentary,Music',\n",
       "       'Comedy,Drama,Musical', 'Adventure,Romance',\n",
       "       'Horror,Sport,Thriller', 'Comedy,Crime,History',\n",
       "       'Action,Adventure,Romance', 'Biography,Documentary,Sport',\n",
       "       'Horror,Music,Sci-Fi', 'Action,Drama,Music',\n",
       "       'Crime,Horror,Mystery', 'Action,Adventure,Mystery',\n",
       "       'Comedy,History,War', 'Action,Fantasy,Sci-Fi',\n",
       "       'Adventure,Horror,Mystery', 'Animation,Horror',\n",
       "       'Adventure,Mystery,Romance', 'Romance,Thriller',\n",
       "       'Documentary,Family', 'Biography,Documentary,Drama',\n",
       "       'Animation,Comedy', 'Adventure,Sci-Fi', 'Comedy,Drama,Western',\n",
       "       'Comedy,Documentary,History', 'Action,Comedy,Thriller',\n",
       "       'Drama,Fantasy,Music', 'Action,Thriller,War', 'Drama,Thriller,War',\n",
       "       'Action,War', 'Biography,Comedy,History', 'Drama,Musical,Romance',\n",
       "       'Comedy,Family,Musical', 'Drama,Romance,Sport',\n",
       "       'Adventure,Mystery', 'Drama,Western', 'Animation,Sci-Fi',\n",
       "       'Romance,Sci-Fi,Thriller', 'Action,Adventure,Biography',\n",
       "       'Comedy,Family,Sport', 'Biography,Documentary,Fantasy',\n",
       "       'Comedy,Romance,Sci-Fi', 'Adventure,Fantasy,Horror',\n",
       "       'Adventure,Drama,Western', 'Comedy,Drama,Thriller',\n",
       "       'Comedy,Romance,Sport', 'History,Music', 'Documentary,Drama,Sport',\n",
       "       'Documentary,Drama,Music', 'Biography,Documentary,Romance',\n",
       "       'Documentary,History,Music', 'Biography,Crime,Documentary',\n",
       "       'Adventure,Crime,Thriller', 'Drama,Family,Music',\n",
       "       'Documentary,News', 'Action,Horror', 'Documentary,Drama,News',\n",
       "       'Action,History,Thriller', 'Adventure,History',\n",
       "       'Adventure,Mystery,Sci-Fi', 'Biography,Comedy,Documentary',\n",
       "       'Drama,History,Thriller', 'Documentary,Drama,Family',\n",
       "       'Family,Fantasy,Romance', 'Comedy,Documentary,Music',\n",
       "       'Comedy,Fantasy,Music', 'Comedy,Family,Sci-Fi',\n",
       "       'Adventure,Documentary,News', 'Comedy,Music',\n",
       "       'Crime,Mystery,Sci-Fi', 'Comedy,Crime,Family', 'Family,Musical',\n",
       "       'Biography,Drama,Musical', 'Music,Romance',\n",
       "       'Fantasy,Mystery,Romance', 'Adventure,Crime,Documentary',\n",
       "       'Documentary,Family,Music', 'Animation,Documentary,News',\n",
       "       'Adventure,Documentary,Family', 'Biography,Documentary,Family',\n",
       "       'Adventure,Documentary,Music', 'Mystery,Thriller,Western',\n",
       "       'Comedy,Crime,Horror', 'Action,Animation,Horror',\n",
       "       'Adventure,Documentary,History', 'Animation,Biography,Comedy',\n",
       "       'Adventure,Horror', 'Adventure,Documentary,Drama',\n",
       "       'Comedy,Documentary,Drama', 'Animation,Documentary,Music',\n",
       "       'Documentary,History,News', 'Comedy,Sci-Fi,Thriller',\n",
       "       'Fantasy,Sci-Fi', 'Action,Biography,Comedy',\n",
       "       'Action,Adventure,Documentary', 'Comedy,Mystery,Romance',\n",
       "       'Biography,Comedy', 'Action,Animation', 'Thriller,Western',\n",
       "       'Adventure,Documentary,Sport', 'Documentary,Western',\n",
       "       'Action,Comedy,Western', 'Drama,Fantasy,Musical',\n",
       "       'Action,Biography,Documentary', 'Documentary,Horror',\n",
       "       'Drama,Family,Sci-Fi', 'Drama,Music,Sci-Fi',\n",
       "       'Documentary,History,Sci-Fi', 'Documentary,Thriller',\n",
       "       'Documentary,Romance', 'Comedy,Horror,Romance',\n",
       "       'Adventure,Drama,Music', 'Animation,Comedy,Mystery',\n",
       "       'Fantasy,Horror,Musical', 'Action,Sci-Fi,Western',\n",
       "       'Documentary,Drama,Reality-TV', 'Action,Documentary,Sport',\n",
       "       'Action,Fantasy', 'Fantasy,Thriller', 'Animation,Drama,Mystery',\n",
       "       'Documentary,Music,Musical', 'Thriller,War', 'Documentary,Mystery',\n",
       "       'Documentary,Reality-TV', 'Action,Documentary,History',\n",
       "       'Animation,Biography,Documentary', 'Biography,Documentary,Mystery',\n",
       "       'Crime,Drama,Sport', 'Drama,Music,Thriller',\n",
       "       'Action,Documentary,Family', 'Action,Documentary,War',\n",
       "       'Animation,Drama,Family', 'Documentary,Family,History',\n",
       "       'Action,Crime,Fantasy', 'Horror,Musical', 'Action,Documentary',\n",
       "       'Action,Crime,Romance', 'Documentary,Drama,Mystery',\n",
       "       'Adventure,Horror,Western', 'Comedy,Crime,Documentary',\n",
       "       'Musical,Romance', 'Drama,Family,Sport',\n",
       "       'Animation,Documentary,Family', 'Crime,Documentary,Mystery',\n",
       "       'Comedy,Documentary,News', 'Drama,Family,Horror',\n",
       "       'Comedy,Romance,Thriller', 'Comedy,Horror,Mystery',\n",
       "       'Fantasy,Sci-Fi,Thriller', 'Adventure,Horror,Romance',\n",
       "       'Adventure,Comedy,Thriller', 'Documentary,Drama,War',\n",
       "       'Biography,Romance,War', 'Adventure,Comedy,Mystery',\n",
       "       'Comedy,Family,Music', 'Drama,Family,Thriller',\n",
       "       'Drama,Family,History', 'Action,Documentary,Drama',\n",
       "       'Fantasy,Horror,Sci-Fi', 'Fantasy,Romance', 'Drama,News,War',\n",
       "       'Crime,Documentary,News', 'Biography,Documentary,News',\n",
       "       'Animation,Biography,Drama', 'Biography,Documentary,War',\n",
       "       'Fantasy,Music', 'Action,Family,Sci-Fi', 'Drama,Family,Romance',\n",
       "       'Animation,Drama,Romance', 'Comedy,Drama,War',\n",
       "       'Fantasy,History,Romance', 'Comedy,Mystery,Thriller',\n",
       "       'Action,Animation,Sci-Fi', 'Adventure,Comedy,Documentary',\n",
       "       'Family,Mystery', 'Action,Comedy,Sport', 'Action,Mystery',\n",
       "       'Action,Animation,Crime', 'Crime,Drama,Family',\n",
       "       'Documentary,Musical', 'Mystery,Romance,Thriller',\n",
       "       'Animation,Comedy,Musical', 'Animation,Drama,Fantasy',\n",
       "       'Crime,Documentary,Drama', 'Animation,Music',\n",
       "       'Fantasy,Romance,Sci-Fi', 'Animation,Documentary',\n",
       "       'Drama,Horror,Music', 'Adventure,Family,Mystery', 'Comedy,History',\n",
       "       'Action,Romance,Thriller', 'Family,Romance',\n",
       "       'Adventure,Animation,Biography', 'Action,Fantasy,Mystery',\n",
       "       'Fantasy,Mystery,Thriller', 'Comedy,Crime,Sport',\n",
       "       'Action,Animation,Family', 'Animation,Musical', 'Action,Family',\n",
       "       'Documentary,Sci-Fi', 'Adventure,Documentary,Mystery',\n",
       "       'Animation,Family,Musical', 'Biography,Drama,Horror',\n",
       "       'Drama,History,Musical', 'Drama,Music,War',\n",
       "       'Animation,Mystery,Sci-Fi', 'Fantasy,Romance,Thriller',\n",
       "       'Biography,Thriller', 'Crime,Mystery', 'Animation,Romance,Sci-Fi',\n",
       "       'Animation,Documentary,Drama', 'Documentary,Drama,Romance',\n",
       "       'Documentary,Music,Romance', 'Biography,Comedy,Music',\n",
       "       'Adventure,Animation,Documentary', 'Action,History,Horror',\n",
       "       'Documentary,Family,Sport', 'Animation,History,Musical',\n",
       "       'Comedy,Documentary,War', 'Adventure,Biography,History',\n",
       "       'Documentary,Music,War', 'Adventure,Fantasy,Sci-Fi',\n",
       "       'Animation,Horror,Sci-Fi', 'Drama,Musical,Sci-Fi',\n",
       "       'Documentary,Family,Romance', 'Drama,Family,War',\n",
       "       'History,Horror,Thriller', 'Comedy,Music,Sci-Fi',\n",
       "       'Biography,Comedy,Family', 'Documentary,Family,Fantasy',\n",
       "       'Drama,Romance,Western', 'Animation,Horror,Thriller',\n",
       "       'Adventure,Fantasy,Musical', 'Animation,Thriller',\n",
       "       'Crime,Romance,Thriller', 'Action,Western',\n",
       "       'Comedy,Fantasy,Musical', 'Comedy,Fantasy,Sci-Fi',\n",
       "       'Drama,Fantasy,Western', 'Adventure,Mystery,Thriller',\n",
       "       'Documentary,Drama,Musical', 'Adventure,Comedy,History',\n",
       "       'Documentary,News,War', 'Documentary,Fantasy,Horror', 'War',\n",
       "       'Drama,Family,Mystery', 'Drama,Family,Musical',\n",
       "       'Drama,History,Sport', 'Animation,Crime,Documentary',\n",
       "       'Action,Romance', 'Comedy,Thriller,Western',\n",
       "       'Biography,Documentary,Musical', 'Action,Crime,Music',\n",
       "       'Fantasy,Mystery,Sci-Fi', 'Biography,Comedy,Romance',\n",
       "       'Documentary,History,Mystery', 'Action,Comedy,Musical',\n",
       "       'Animation,Drama,Thriller', 'Family,Fantasy,Sci-Fi',\n",
       "       'Action,Adventure,War', 'Comedy,War',\n",
       "       'Adventure,Documentary,Western', 'Crime,Drama,Western',\n",
       "       'Drama,Musical,Thriller', 'Animation,Drama,Sci-Fi',\n",
       "       'Mystery,Sci-Fi', 'Animation,Fantasy', 'Comedy,Mystery,Sci-Fi',\n",
       "       'Action,Drama,News', 'Comedy,Documentary,Romance',\n",
       "       'Crime,Drama,Musical', 'Fantasy,Mystery',\n",
       "       'Animation,Comedy,Romance', 'Crime,History,Thriller',\n",
       "       'Crime,Sci-Fi,Thriller', 'Comedy,Family,Western',\n",
       "       'Crime,Horror,Musical', 'Documentary,Drama,Horror',\n",
       "       'Action,Fantasy,Romance', 'Drama,History,Mystery',\n",
       "       'Fantasy,Music,Romance', 'Comedy,Documentary,Family',\n",
       "       'Animation,Comedy,Documentary', 'Action,Comedy,Mystery',\n",
       "       'Action,Biography,History', 'Animation,Music,Romance',\n",
       "       'Animation,Documentary,War', 'Animation,Drama,War',\n",
       "       'Biography,History,Thriller', 'Action,Horror,Western',\n",
       "       'Action,Comedy,Music', 'Action,Family,Mystery',\n",
       "       'Adventure,Family,Western', 'History,Thriller,War',\n",
       "       'Documentary,History,Western', 'Comedy,Family,Thriller',\n",
       "       'Adventure,History,Mystery', 'Comedy,Fantasy,Thriller',\n",
       "       'Drama,Sport,Thriller', 'Action,Comedy,History',\n",
       "       'Action,Romance,Sport', 'Adventure,Drama,War',\n",
       "       'Documentary,Fantasy', 'Comedy,Horror,Sport',\n",
       "       'Adventure,Crime,Family', 'Family,Musical,Sport',\n",
       "       'Crime,Drama,Sci-Fi', 'Biography,Documentary,Sci-Fi',\n",
       "       'Action,Musical,Romance', 'Drama,History,Sci-Fi',\n",
       "       'Action,Romance,War', 'Animation,Family,Music',\n",
       "       'Horror,Music,Mystery', 'Documentary,Horror,Thriller',\n",
       "       'Adventure,Thriller', 'Adventure,Family,Musical',\n",
       "       'Biography,Comedy,Sci-Fi', 'Romance,Sport', 'Action,Crime,Musical',\n",
       "       'Documentary,Music,Sport', 'Adventure,Sport',\n",
       "       'Action,Crime,Documentary', 'Musical,Sci-Fi', 'Action,Sport',\n",
       "       'Comedy,History,Mystery', 'Documentary,History,Horror',\n",
       "       'Documentary,Music,Mystery', 'Music,Mystery,Thriller',\n",
       "       'Fantasy,Musical,Sci-Fi', 'Animation,Sci-Fi,Thriller',\n",
       "       'Fantasy,Musical', 'Action,Crime,Sport', 'Crime,Mystery,Romance',\n",
       "       'Documentary,Fantasy,History', 'Crime,Fantasy,Mystery',\n",
       "       'Adventure,Documentary,Reality-TV', 'Adventure,Romance,Sport',\n",
       "       'Horror,Music,Thriller', 'Adventure,Family,Horror',\n",
       "       'Comedy,Musical,Sci-Fi', 'Adventure,Biography,Crime',\n",
       "       'Comedy,Music,Musical', 'Animation,Biography,History',\n",
       "       'Family,Mystery,Thriller', 'Drama,Game-Show,Thriller',\n",
       "       'Horror,War', 'Adventure,Comedy,Musical',\n",
       "       'Animation,Fantasy,Horror', 'Documentary,Drama,Western', 'News',\n",
       "       'Action,Music', 'Animation,History', 'Adventure,Family,Romance',\n",
       "       'Animation,Fantasy,Mystery', 'Fantasy,Horror,Music',\n",
       "       'Adventure,Sci-Fi,Thriller', 'Adventure,Documentary,Romance',\n",
       "       'Drama,History,Horror', 'Drama,Sci-Fi,Western',\n",
       "       'Biography,Crime,History', 'Animation,Horror,Music',\n",
       "       'Comedy,Documentary,Thriller', 'Crime,Documentary,Thriller',\n",
       "       'Adventure,Animation,Musical', 'Music,Musical',\n",
       "       'Adventure,Drama,Musical', 'Adventure,Family,Sci-Fi',\n",
       "       'Horror,Romance', 'Biography,Drama,News', 'Action,Adventure,Music',\n",
       "       'Documentary,History,Romance', 'Action,Crime,History',\n",
       "       'Family,Horror,Thriller', 'Documentary,Fantasy,Sci-Fi',\n",
       "       'Crime,Sci-Fi', 'Comedy,Family,Horror', 'Action,Sci-Fi,War',\n",
       "       'Documentary,Music,News', 'Biography,Documentary,Western',\n",
       "       'Animation,Drama,Horror', 'Family,Sci-Fi,Thriller', 'Crime,Horror',\n",
       "       'Romance,Sci-Fi', 'Animation,Drama,Musical', 'Crime,Romance',\n",
       "       'Comedy,Documentary,Horror', 'Animation,Comedy,Music',\n",
       "       'Family,Fantasy,Western', 'Animation,History,Horror',\n",
       "       'Action,Horror,Sport', 'Musical,Romance,Thriller',\n",
       "       'Documentary,Mystery,News', 'Horror,Thriller,War',\n",
       "       'Crime,Music,Mystery', 'Drama,Horror,Western',\n",
       "       'Drama,Mystery,Western', 'Horror,Romance,Sci-Fi',\n",
       "       'Drama,Music,Mystery', 'Music,Musical,Romance',\n",
       "       'Crime,Family,Thriller', 'History,Sci-Fi',\n",
       "       'Mystery,Romance,Sci-Fi', 'Biography,History,Romance',\n",
       "       'Drama,History,News', 'Action,Sport,Thriller',\n",
       "       'Adventure,Crime,Western', 'Action,Animation,History',\n",
       "       'Documentary,News,Thriller', 'Drama,Sci-Fi,War',\n",
       "       'Drama,Horror,Musical', 'Documentary,History,Thriller',\n",
       "       'Documentary,Drama,Thriller', 'Family,Music,Romance',\n",
       "       'Animation,Family,History', 'Crime,Western',\n",
       "       'Comedy,Documentary,Mystery', 'Biography,Music', 'Horror,Music',\n",
       "       'Adventure,Fantasy,Thriller', 'Crime,Fantasy,Horror',\n",
       "       'Family,Musical,Romance', 'Comedy,Documentary,Western',\n",
       "       'Mystery,News,Thriller', 'Comedy,Drama,News',\n",
       "       'Drama,History,Music', 'Comedy,Family,Mystery', 'Crime,Musical',\n",
       "       'Action,Horror,Romance', 'Comedy,News',\n",
       "       'Biography,History,Mystery', 'Documentary,Family,Western',\n",
       "       'Animation,Family,Sport', 'Action,Musical,Thriller',\n",
       "       'Biography,Drama,Mystery', 'Animation,Biography,Family',\n",
       "       'Biography,Comedy,Fantasy', 'Action,Family,Western',\n",
       "       'Horror,Thriller,Western', 'Biography,Family,Fantasy',\n",
       "       'Adventure,Music', 'Drama,News', 'Animation,Biography,Crime',\n",
       "       'Family,Fantasy,Musical', 'Documentary,Musical,Mystery',\n",
       "       'Adventure,Documentary,Fantasy', 'Drama,News,Thriller',\n",
       "       'Adventure,History,Romance', 'Comedy,Fantasy,Mystery',\n",
       "       'Musical,Thriller', 'Action,Musical', 'Comedy,Documentary,Musical',\n",
       "       'Documentary,News,Romance', 'Crime,Fantasy,Thriller',\n",
       "       'Animation,Fantasy,Music', 'Documentary,Drama,Fantasy',\n",
       "       'Game-Show', 'Adventure,Fantasy,History', 'Comedy,Horror,Music',\n",
       "       'Biography,History,Music', 'Drama,War,Western',\n",
       "       'Biography,Crime,Thriller', 'Crime,Family',\n",
       "       'Adventure,Music,Sci-Fi', 'Crime,Music,Thriller',\n",
       "       'Biography,Family,Sport', 'Family,History,War',\n",
       "       'Action,Animation,Documentary', 'Documentary,History,Musical',\n",
       "       'Animation,Comedy,History', 'Crime,Family,Horror',\n",
       "       'Adventure,Fantasy,Romance', 'Comedy,Family,History',\n",
       "       'Biography,Horror', 'Action,History,War',\n",
       "       'Animation,Documentary,History', 'Documentary,Mystery,Thriller',\n",
       "       'Family,Sci-Fi', 'History,Romance', 'Adventure,Romance,Sci-Fi',\n",
       "       'Crime,Horror,Sci-Fi', 'Action,Drama,Musical',\n",
       "       'Action,Musical,Sci-Fi', 'Family,Horror,Romance', 'History,Horror',\n",
       "       'Fantasy,History,Mystery', 'Drama,History,Western',\n",
       "       'Biography,Documentary,Horror', 'Adventure,Crime,Romance',\n",
       "       'Comedy,Music,War', 'Crime,Musical,Thriller',\n",
       "       'Comedy,Documentary,Sport', 'Comedy,Crime,Fantasy',\n",
       "       'Documentary,Horror,News', 'Action,Biography',\n",
       "       'Crime,Documentary,Family', 'Biography,Family,History',\n",
       "       'Documentary,News,Reality-TV', 'Adventure,Western',\n",
       "       'Horror,Western', 'Crime,Horror,Romance',\n",
       "       'Action,Documentary,News', 'Documentary,Horror,Romance',\n",
       "       'Sport,Thriller', 'Comedy,Sport,Western', 'Comedy,Crime,Musical',\n",
       "       'Comedy,Sci-Fi,Western', 'Action,Biography,Thriller',\n",
       "       'Action,Documentary,Thriller', 'Crime,Drama,News',\n",
       "       'Animation,Fantasy,Sci-Fi', 'Crime,Documentary,War',\n",
       "       'Action,Comedy,War', 'Comedy,Sci-Fi,Sport',\n",
       "       'Documentary,Family,War', 'Comedy,History,Horror',\n",
       "       'History,Western', 'Animation,Horror,Mystery',\n",
       "       'Adventure,Family,Sport', 'Biography,War',\n",
       "       'History,Romance,Western', 'Biography,Family',\n",
       "       'Musical,Mystery,Thriller', 'Animation,History,Music',\n",
       "       'Biography,Documentary,Thriller', 'Adventure,Biography,Family',\n",
       "       'Animation,Horror,Romance', 'History,Thriller',\n",
       "       'Action,Animation,Music', 'Animation,Comedy,Horror',\n",
       "       'Crime,Thriller,Western', 'Biography,Comedy,Horror',\n",
       "       'Adult,Horror', 'Documentary,Fantasy,Mystery', 'Family,Thriller',\n",
       "       'Drama,Sci-Fi,Sport', 'Documentary,Family,Mystery',\n",
       "       'Comedy,History,Music', 'Action,Mystery,Western',\n",
       "       'Family,Fantasy,Music', 'Documentary,Family,Musical',\n",
       "       'Animation,Romance', 'Drama,Mystery,News',\n",
       "       'Action,Animation,Sport', 'Adventure,Romance,Thriller',\n",
       "       'Drama,Family,Western', 'Adventure,Comedy,War',\n",
       "       'Action,Animation,Biography', 'Comedy,Horror,War',\n",
       "       'Animation,Mystery,Thriller', 'History,War', 'Drama,Music,News',\n",
       "       'Comedy,Documentary,Fantasy', 'Animation,Drama,Music',\n",
       "       'Family,Music', 'Documentary,Horror,Mystery', 'Drama,Family,News',\n",
       "       'Reality-TV', 'Fantasy,Horror,Western',\n",
       "       'Adventure,Documentary,Sci-Fi', 'Fantasy,History,Music',\n",
       "       'Animation,Biography,Fantasy', 'Comedy,Horror,Western',\n",
       "       'History,Musical,Romance', 'Fantasy,Horror,Romance',\n",
       "       'Comedy,Musical,Western', 'Documentary,News,Sport',\n",
       "       'Action,Thriller,Western', 'Adventure,News',\n",
       "       'Crime,Documentary,Romance', 'History,Horror,Mystery',\n",
       "       'Animation,Sport', 'Action,Documentary,Horror',\n",
       "       'History,Sci-Fi,Thriller', 'Adventure,Documentary,Musical',\n",
       "       'Comedy,Reality-TV', 'Family,Fantasy,Mystery',\n",
       "       'Documentary,History,Reality-TV', 'Animation,Drama,Sport',\n",
       "       'Biography,Drama,Western', 'Animation,Western',\n",
       "       'Adventure,Music,Romance', 'Adventure,Family,Music',\n",
       "       'Family,Mystery,Sport', 'Documentary,Sport,War',\n",
       "       'Animation,Fantasy,History', 'Comedy,Musical,Sport',\n",
       "       'Crime,Documentary,Fantasy', 'Action,Crime,Western',\n",
       "       'Action,Romance,Sci-Fi', 'Adventure,Animation,Horror',\n",
       "       'Comedy,History,News', 'Family,Western',\n",
       "       'Documentary,Mystery,Sci-Fi', 'Animation,Crime,Thriller',\n",
       "       'Animation,Family,Sci-Fi', 'Biography,Thriller,Western',\n",
       "       'Drama,Musical,Western', 'Crime,History',\n",
       "       'Animation,Crime,Mystery', 'History,Romance,War',\n",
       "       'Action,Mystery,Romance', 'Adventure,Documentary,Horror',\n",
       "       'Horror,Sci-Fi,War', 'Comedy,History,Romance', 'Biography,Crime',\n",
       "       'Biography,Sport', 'Animation,Sci-Fi,War',\n",
       "       'Animation,Documentary,Mystery', 'Biography,Fantasy',\n",
       "       'Action,Adventure,Sport', 'Biography,Musical', 'Romance,Western',\n",
       "       'Documentary,Sport,Thriller', 'History,Musical', 'Adventure,Crime',\n",
       "       'Comedy,History,Musical', 'Documentary,Music,Reality-TV',\n",
       "       'Crime,Documentary,Sport', 'Adventure,Crime,Horror',\n",
       "       'Biography,Romance', 'Action,Family,Thriller',\n",
       "       'Comedy,Sport,Thriller', 'Animation,War', 'Adventure,Fantasy,War',\n",
       "       'Biography,Documentary,Reality-TV', 'Animation,Family,Mystery',\n",
       "       'Biography,History,War', 'Animation,Fantasy,Romance',\n",
       "       'Comedy,History,Sport', 'Biography,Music,Romance',\n",
       "       'Comedy,Fantasy,Sport', 'Adventure,Musical',\n",
       "       'Romance,Thriller,War', 'Action,Adult,Comedy', 'Sci-Fi,War',\n",
       "       'Action,Adventure,Musical', 'Crime,Mystery,Western',\n",
       "       'Adventure,Animation,Crime', 'History,Mystery,Thriller',\n",
       "       'Musical,Mystery,Sci-Fi', 'Crime,Music',\n",
       "       'Adventure,History,Sci-Fi', 'Musical,Romance,Western',\n",
       "       'Comedy,Music,Thriller', 'Drama,Short',\n",
       "       'Documentary,Family,Sci-Fi'], dtype=object)"
      ]
     },
     "execution_count": 28,
     "metadata": {},
     "output_type": "execute_result"
    }
   ],
   "source": [
    "imdb_df['genres'].unique()"
   ]
  },
  {
   "cell_type": "markdown",
   "id": "1cc19a42",
   "metadata": {},
   "source": [
    "#### Normalize and tokenize genre strings to analyze the combinations"
   ]
  },
  {
   "cell_type": "code",
   "execution_count": 32,
   "id": "70915eb4",
   "metadata": {},
   "outputs": [
    {
     "data": {
      "text/html": [
       "<div>\n",
       "<style scoped>\n",
       "    .dataframe tbody tr th:only-of-type {\n",
       "        vertical-align: middle;\n",
       "    }\n",
       "\n",
       "    .dataframe tbody tr th {\n",
       "        vertical-align: top;\n",
       "    }\n",
       "\n",
       "    .dataframe thead th {\n",
       "        text-align: right;\n",
       "    }\n",
       "</style>\n",
       "<table border=\"1\" class=\"dataframe\">\n",
       "  <thead>\n",
       "    <tr style=\"text-align: right;\">\n",
       "      <th></th>\n",
       "      <th>movie_id</th>\n",
       "      <th>primary_title</th>\n",
       "      <th>original_title</th>\n",
       "      <th>start_year</th>\n",
       "      <th>runtime_minutes</th>\n",
       "      <th>movie_id</th>\n",
       "      <th>averagerating</th>\n",
       "      <th>numvotes</th>\n",
       "      <th>action</th>\n",
       "      <th>crime</th>\n",
       "      <th>...</th>\n",
       "      <th>war</th>\n",
       "      <th>music</th>\n",
       "      <th>sport</th>\n",
       "      <th>western</th>\n",
       "      <th>musical</th>\n",
       "      <th>news</th>\n",
       "      <th>reality-tv</th>\n",
       "      <th>game-show</th>\n",
       "      <th>adult</th>\n",
       "      <th>short</th>\n",
       "    </tr>\n",
       "  </thead>\n",
       "  <tbody>\n",
       "    <tr>\n",
       "      <th>0</th>\n",
       "      <td>tt0063540</td>\n",
       "      <td>Sunghursh</td>\n",
       "      <td>Sunghursh</td>\n",
       "      <td>2013</td>\n",
       "      <td>175.0</td>\n",
       "      <td>tt0063540</td>\n",
       "      <td>7.0</td>\n",
       "      <td>77</td>\n",
       "      <td>1</td>\n",
       "      <td>1</td>\n",
       "      <td>...</td>\n",
       "      <td>0</td>\n",
       "      <td>0</td>\n",
       "      <td>0</td>\n",
       "      <td>0</td>\n",
       "      <td>0</td>\n",
       "      <td>0</td>\n",
       "      <td>0</td>\n",
       "      <td>0</td>\n",
       "      <td>0</td>\n",
       "      <td>0</td>\n",
       "    </tr>\n",
       "    <tr>\n",
       "      <th>1</th>\n",
       "      <td>tt0066787</td>\n",
       "      <td>One Day Before the Rainy Season</td>\n",
       "      <td>Ashad Ka Ek Din</td>\n",
       "      <td>2019</td>\n",
       "      <td>114.0</td>\n",
       "      <td>tt0066787</td>\n",
       "      <td>7.2</td>\n",
       "      <td>43</td>\n",
       "      <td>0</td>\n",
       "      <td>0</td>\n",
       "      <td>...</td>\n",
       "      <td>0</td>\n",
       "      <td>0</td>\n",
       "      <td>0</td>\n",
       "      <td>0</td>\n",
       "      <td>0</td>\n",
       "      <td>0</td>\n",
       "      <td>0</td>\n",
       "      <td>0</td>\n",
       "      <td>0</td>\n",
       "      <td>0</td>\n",
       "    </tr>\n",
       "  </tbody>\n",
       "</table>\n",
       "<p>2 rows × 34 columns</p>\n",
       "</div>"
      ],
      "text/plain": [
       "    movie_id                    primary_title   original_title  start_year  \\\n",
       "0  tt0063540                        Sunghursh        Sunghursh        2013   \n",
       "1  tt0066787  One Day Before the Rainy Season  Ashad Ka Ek Din        2019   \n",
       "\n",
       "   runtime_minutes   movie_id  averagerating  numvotes  action  crime  ...  \\\n",
       "0            175.0  tt0063540            7.0        77       1      1  ...   \n",
       "1            114.0  tt0066787            7.2        43       0      0  ...   \n",
       "\n",
       "   war  music  sport  western  musical  news  reality-tv  game-show  adult  \\\n",
       "0    0      0      0        0        0     0           0          0      0   \n",
       "1    0      0      0        0        0     0           0          0      0   \n",
       "\n",
       "   short  \n",
       "0      0  \n",
       "1      0  \n",
       "\n",
       "[2 rows x 34 columns]"
      ]
     },
     "execution_count": 32,
     "metadata": {},
     "output_type": "execute_result"
    }
   ],
   "source": [
    "# Normalize genre strings - making them of same of same category, lowecase\n",
    "imdb_df['genres'] = imdb_df['genres'].str.strip().str.lower()\n",
    "\n",
    "# Tokenize genres\n",
    "imdb_df['genres_list'] = imdb_df['genres'].str.split(',')\n",
    "\n",
    "# Expand genres into separate columns\n",
    "genres_expanded = imdb_df['genres_list'].explode().unique()\n",
    "for genre in genres_expanded:\n",
    "    imdb_df[genre] = imdb_df['genres_list'].apply(lambda x: 1 if genre in x else 0)\n",
    "\n",
    "# Drop the intermediate columns\n",
    "df = imdb_df.drop(columns=['genres', 'genres_list'])\n",
    "\n",
    "df.head(2)"
   ]
  },
  {
   "cell_type": "markdown",
   "id": "c7fdb5e0",
   "metadata": {},
   "source": [
    "#### genre frequency distribution"
   ]
  },
  {
   "cell_type": "code",
   "execution_count": 34,
   "id": "f77bf590",
   "metadata": {},
   "outputs": [
    {
     "data": {
      "image/png": "[encoded data removed]",
      "text/plain": [
       "<Figure size 1000x700 with 1 Axes>"
      ]
     },
     "metadata": {},
     "output_type": "display_data"
    }
   ],
   "source": [
    "#Frequency count\n",
    "\n",
    "# Count the frequency of each genre\n",
    "genre_counts = df[genres_expanded].sum()\n",
    "\n",
    "# Plot the distribution\n",
    "plt.figure(figsize=(10, 7))\n",
    "ax = genre_counts.sort_values().plot(kind='barh', color='skyblue')\n",
    "\n",
    "# Add count labels next to each bar\n",
    "for p in ax.patches:\n",
    "    width = p.get_width()\n",
    "    ax.text(width + 0.1, p.get_y() + p.get_height() / 2, int(width), \n",
    "            ha='left', va='center', color='black')\n",
    "\n",
    "plt.title('Genre Frequency Distribution')\n",
    "plt.xlabel('Count')\n",
    "plt.ylabel('Genre')\n",
    "plt.show()\n"
   ]
  },
  {
   "cell_type": "markdown",
   "id": "4d6e8bee",
   "metadata": {},
   "source": [
    "#### Genre combinations co-occurrence - heatmap"
   ]
  },
  {
   "cell_type": "code",
   "execution_count": 48,
   "id": "e93edc04",
   "metadata": {},
   "outputs": [
    {
     "data": {
      "image/png": "[encoded data removed]",
      "text/plain": [
       "<Figure size 1500x1200 with 2 Axes>"
      ]
     },
     "metadata": {},
     "output_type": "display_data"
    }
   ],
   "source": [
    "# Create a DataFrame for pairwise genre combinations\n",
    "from itertools import combinations\n",
    "\n",
    "# Calculate pairwise genre co-occurrence\n",
    "genre_pairs = pd.DataFrame(\n",
    "    index=genres_expanded,\n",
    "    columns=genres_expanded,\n",
    "    data=0\n",
    ")\n",
    "\n",
    "for genre1, genre2 in combinations(genres_expanded, 2):\n",
    "    genre_pairs.loc[genre1, genre2] = ((df[genre1] & df[genre2]).sum())\n",
    "    genre_pairs.loc[genre2, genre1] = genre_pairs.loc[genre1, genre2]\n",
    "\n",
    "# Plot the pairwise co-occurrence\n",
    "plt.figure(figsize=(15, 12))\n",
    "sns.heatmap(genre_pairs, annot=True, cmap='YlGnBu', fmt='d')\n",
    "plt.title('Genre Pairwise Co-occurrence')\n",
    "plt.show()\n"
   ]
  },
  {
   "cell_type": "markdown",
   "id": "068f92af",
   "metadata": {},
   "source": [
    "#### genre occurence and combinations count"
   ]
  },
  {
   "cell_type": "code",
   "execution_count": 51,
   "id": "a5f2663f",
   "metadata": {},
   "outputs": [
    {
     "name": "stdout",
     "output_type": "stream",
     "text": [
      "Genre Combination Counts:\n",
      "                          Combination  Count\n",
      "2                               drama  28394\n",
      "22                        documentary  16423\n",
      "9                              comedy  15514\n",
      "36                           thriller   7583\n",
      "40                             horror   6917\n",
      "..                                ...    ...\n",
      "798             drama & war & western      1\n",
      "800        adventure & music & sci-fi      1\n",
      "802        biography & family & sport      1\n",
      "804  action & animation & documentary      1\n",
      "966     documentary & family & sci-fi      1\n",
      "\n",
      "[967 rows x 2 columns]\n"
     ]
    }
   ],
   "source": [
    "# Normalize genre strings\n",
    "#imdb_df['genres'] = imdb_df['genres'].str.strip().str.lower()\n",
    "\n",
    "# Tokenize genres\n",
    "#imdb_df['genres_list'] = imdb_df['genres'].str.split(',')\n",
    "\n",
    "# Create a DataFrame to store genre combinations\n",
    "genre_combinations = pd.DataFrame(columns=['Combination', 'Count'])\n",
    "\n",
    "# Generate genre combinations for each movie and count occurrences\n",
    "combination_counts = {}\n",
    "\n",
    "for _, row in imdb_df.iterrows():\n",
    "    genres = sorted(row['genres_list'])  # Sort genres to ensure order consistency\n",
    "    for r in range(1, len(genres) + 1):\n",
    "        for combo in combinations(genres, r):\n",
    "            combo_str = ' & '.join(combo)\n",
    "            if combo_str in combination_counts:\n",
    "                combination_counts[combo_str] += 1\n",
    "            else:\n",
    "                combination_counts[combo_str] = 1\n",
    "\n",
    "# Convert the combination counts dictionary to a DataFrame\n",
    "genre_combinations = pd.DataFrame(list(combination_counts.items()), columns=['Combination', 'Count'])\n",
    "\n",
    "# Sort by Count in descending order\n",
    "result_table = genre_combinations.sort_values(by='Count', ascending=False)\n",
    "\n",
    "# Print the sorted table\n",
    "print(\"Genre Combination Counts:\")\n",
    "print(result_table)"
   ]
  },
  {
   "cell_type": "code",
   "execution_count": 56,
   "id": "bfb52ff4",
   "metadata": {},
   "outputs": [
    {
     "data": {
      "image/png": "[encoded data removed]",
      "text/plain": [
       "<Figure size 1200x800 with 1 Axes>"
      ]
     },
     "metadata": {},
     "output_type": "display_data"
    }
   ],
   "source": [
    "# Create DataFrame and select top 20 rows\n",
    "result = pd.DataFrame(result_table)\n",
    "result = result.head(20)\n",
    "\n",
    "# Plotting the bar plot\n",
    "plt.figure(figsize=(12, 8))\n",
    "sns.barplot(x=result['Combination'], y=result['Count'])\n",
    "\n",
    "# Adding annotations (count values) on top of each bar\n",
    "for index, value in enumerate(result['Count']):\n",
    "    plt.text(index, value, str(value), ha='center', va='bottom')\n",
    "\n",
    "plt.xticks(rotation=90)\n",
    "plt.title('Top 20 Genre Combinations by Count')\n",
    "plt.xlabel('Genre Combination')\n",
    "plt.ylabel('Count')\n",
    "plt.tight_layout()\n",
    "plt.show()"
   ]
  }
 ],
 "metadata": {
  "kernelspec": {
   "display_name": "learn-env",
   "language": "python",
   "name": "python3"
  },
  "language_info": {
   "codemirror_mode": {
    "name": "ipython",
    "version": 3
   },
   "file_extension": ".py",
   "mimetype": "text/x-python",
   "name": "python",
   "nbconvert_exporter": "python",
   "pygments_lexer": "ipython3",
   "version": "3.11.9"
  }
 },
 "nbformat": 4,
 "nbformat_minor": 5
}
