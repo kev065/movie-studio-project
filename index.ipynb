{
 "cells": [
  {
   "cell_type": "markdown",
   "id": "f53e9086-62fc-4cc1-8a57-97f59d96e67c",
   "metadata": {},
   "source": [
    "# MOVIE STUDIO ANALYSIS"
   ]
  },
  {
   "cell_type": "markdown",
   "id": "e68baefb-2db5-453c-b82a-0c9f132768e8",
   "metadata": {},
   "source": [
    "<img src=\"images/moviedog.jpg\" style=\"width:100%; height:auto;\">"
   ]
  },
  {
   "cell_type": "markdown",
   "id": "d3921e90-5fe5-4b0d-b1b4-abdc17ab0235",
   "metadata": {},
   "source": [
    "## Business understanding"
   ]
  },
  {
   "cell_type": "markdown",
   "id": "a6acb4fb-bc31-47a8-a678-95dd5cfa69aa",
   "metadata": {},
   "source": [
    "Our company have decided to create a new movie studio, but they don’t know anything about creating movies. We have been charged with exploring what types of films are currently doing the best at the box office.\n",
    "We must then translate the findings into actionable insights that the head of the company's new movie studio can use to help decide what type of films to create.\n",
    "\n",
    "* Our focus will be to make suggestions for the type of movies that will be the most profitable for our new movie division."
   ]
  },
  {
   "cell_type": "markdown",
   "id": "df7aab85-1eea-4ebc-8c62-4facf4a905cc",
   "metadata": {},
   "source": [
    "## Data understanding"
   ]
  },
  {
   "cell_type": "markdown",
   "id": "8d911651-f6c0-44ea-8a9b-74db319354e8",
   "metadata": {},
   "source": [
    "we will be using the following datasets:\n",
    "1. `rt.reviews.tsv` from [rotten tomatoes](https://www.rottentomatoes.com/)\n",
    "2. `rt.movie_info.tsv` from [rotten tomatoes](https://www.rottentomatoes.com/)\n",
    "3. `im.db` from [IMDB](https://www.imdb.com/)\n",
    "4. `bom.movie_gross.csv` from [BOXOFFICE MOJO](https://www.boxofficemojo.com/)\n",
    "5. `tn.movie_budgets.csv` from [NUMBERS](https://www.the-numbers.com/)"
   ]
  },
  {
   "cell_type": "markdown",
   "id": "cc8c7324-c6e9-4f39-a8c7-67eb91dff22a",
   "metadata": {},
   "source": [
    "### Importing libraries"
   ]
  },
  {
   "cell_type": "code",
   "execution_count": 59,
   "id": "054f5945-472b-41e1-bb53-7b404768aa5e",
   "metadata": {},
   "outputs": [],
   "source": [
    "# importing libraries\n",
    "\n",
    "import pandas as pd\n",
    "import numpy as np\n",
    "import sqlite3\n",
    "import matplotlib.pyplot as plt\n",
    "import seaborn as sns\n",
    "import scipy.stats as stats\n",
    "\n",
    "%matplotlib inline"
   ]
  },
  {
   "cell_type": "markdown",
   "id": "9c3ab5eb-3f74-42ac-b60d-ad8e4ac0bb21",
   "metadata": {},
   "source": [
    "### Loading Data sets"
   ]
  },
  {
   "cell_type": "code",
   "execution_count": 60,
   "id": "0150d262-e13b-4eaa-ab97-5a893536c7de",
   "metadata": {},
   "outputs": [],
   "source": [
    "# loading datasets\n",
    "\n",
    "# reviews dataset\n",
    "file_path = 'data/rt.reviews.tsv'\n",
    "\n",
    "try:\n",
    "    review_df = pd.read_csv(file_path, sep='\\t', on_bad_lines='skip', encoding='ISO-8859-1')\n",
    "except pd.errors.ParserError as e:\n",
    "    print(f\"Error parsing file: {e}\")\n",
    "\n",
    "#Loading Movie_Info\n",
    "movie_info_df = pd.read_csv('data/rt.movie_info.tsv', sep='\\t', on_bad_lines='skip', encoding='ISO-8859-1')\n",
    "\n",
    "f'''\n",
    "# bom.movie_gross.csv\n",
    "path = 'data/bom.movie_gross.csv'\n",
    "movie_gross_df = pd.read_csv(path)\n",
    "'''\n",
    "\n",
    "# im.dbsqlite, we load only the 2 tables that are needed for the analysis. \n",
    "conn = sqlite3.connect('data/im.db')\n",
    "q = '''\n",
    "SELECT *\n",
    "    FROM movie_basics\n",
    "    JOIN movie_ratings\n",
    "    ON movie_basics.movie_ID = movie_ratings.movie_id\n",
    "'''\n",
    "imdb_df = pd.read_sql(q, conn)\n",
    "\n",
    "# Loading 'The Numbers' Dataset\n",
    "path = 'data/tn.movie_budgets.csv'\n",
    "movie_budgets_df = pd.read_csv(path)\n"
   ]
  },
  {
   "cell_type": "markdown",
   "id": "0939b0bd-b81f-4b5d-89a8-abceebea0d92",
   "metadata": {},
   "source": [
    "## Data understanding"
   ]
  },
  {
   "cell_type": "markdown",
   "id": "904133d8-5806-476e-b8f2-ba60e65ecde9",
   "metadata": {},
   "source": [
    "### 1. review_df"
   ]
  },
  {
   "cell_type": "markdown",
   "id": "51ae4aec-5220-486d-882d-b3af36989c37",
   "metadata": {},
   "source": [
    "## DATA CLEANING"
   ]
  },
  {
   "cell_type": "markdown",
   "id": "e70b5635-ecca-4621-bc50-fa19ce930353",
   "metadata": {},
   "source": [
    "#### 1.1. Merging review_df and Movie_info_df"
   ]
  },
  {
   "cell_type": "code",
   "execution_count": 61,
   "id": "bb3f0c6c-4a4e-4aa2-8339-543112e1bf19",
   "metadata": {},
   "outputs": [],
   "source": [
    "#merge the two dfs\n",
    "merged_df = pd.merge(review_df, movie_info_df, on='id', how='inner')"
   ]
  },
  {
   "cell_type": "markdown",
   "id": "ce3f2d01-e399-4b10-b4f6-84c632107ac7",
   "metadata": {},
   "source": [
    "#### 1.2 Dropping columns not used"
   ]
  },
  {
   "cell_type": "code",
   "execution_count": 62,
   "id": "376a2d02-b124-4589-b9f1-19dae38ba617",
   "metadata": {},
   "outputs": [],
   "source": [
    "# columns to drop\n",
    "columns_to_drop =['review', 'critic', 'top_critic', 'publisher', 'synopsis', 'writer', 'studio', 'currency', 'box_office']\n",
    "\n",
    "merged_df = merged_df.drop(columns_to_drop, axis=1)"
   ]
  },
  {
   "cell_type": "markdown",
   "id": "3c93c423-8ae2-487a-9673-fa90ec1e32ab",
   "metadata": {},
   "source": [
    "#### 1.3 Changing column names for rating_x (star_rating) and rating_y(MPAA_rating)"
   ]
  },
  {
   "cell_type": "code",
   "execution_count": 63,
   "id": "21d1cb0c-8b49-40b0-a6d2-7d493dbe4ba3",
   "metadata": {},
   "outputs": [
    {
     "data": {
      "text/html": [
       "<div>\n",
       "<style scoped>\n",
       "    .dataframe tbody tr th:only-of-type {\n",
       "        vertical-align: middle;\n",
       "    }\n",
       "\n",
       "    .dataframe tbody tr th {\n",
       "        vertical-align: top;\n",
       "    }\n",
       "\n",
       "    .dataframe thead th {\n",
       "        text-align: right;\n",
       "    }\n",
       "</style>\n",
       "<table border=\"1\" class=\"dataframe\">\n",
       "  <thead>\n",
       "    <tr style=\"text-align: right;\">\n",
       "      <th></th>\n",
       "      <th>id</th>\n",
       "      <th>star_rating</th>\n",
       "      <th>fresh</th>\n",
       "      <th>date</th>\n",
       "      <th>MPAA_rating</th>\n",
       "      <th>genre</th>\n",
       "      <th>director</th>\n",
       "      <th>theater_date</th>\n",
       "      <th>dvd_date</th>\n",
       "      <th>runtime</th>\n",
       "    </tr>\n",
       "  </thead>\n",
       "  <tbody>\n",
       "    <tr>\n",
       "      <th>0</th>\n",
       "      <td>3</td>\n",
       "      <td>3/5</td>\n",
       "      <td>fresh</td>\n",
       "      <td>November 10, 2018</td>\n",
       "      <td>R</td>\n",
       "      <td>Drama|Science Fiction and Fantasy</td>\n",
       "      <td>David Cronenberg</td>\n",
       "      <td>Aug 17, 2012</td>\n",
       "      <td>Jan 1, 2013</td>\n",
       "      <td>108 minutes</td>\n",
       "    </tr>\n",
       "    <tr>\n",
       "      <th>1</th>\n",
       "      <td>3</td>\n",
       "      <td>NaN</td>\n",
       "      <td>rotten</td>\n",
       "      <td>May 23, 2018</td>\n",
       "      <td>R</td>\n",
       "      <td>Drama|Science Fiction and Fantasy</td>\n",
       "      <td>David Cronenberg</td>\n",
       "      <td>Aug 17, 2012</td>\n",
       "      <td>Jan 1, 2013</td>\n",
       "      <td>108 minutes</td>\n",
       "    </tr>\n",
       "    <tr>\n",
       "      <th>2</th>\n",
       "      <td>3</td>\n",
       "      <td>NaN</td>\n",
       "      <td>fresh</td>\n",
       "      <td>January 4, 2018</td>\n",
       "      <td>R</td>\n",
       "      <td>Drama|Science Fiction and Fantasy</td>\n",
       "      <td>David Cronenberg</td>\n",
       "      <td>Aug 17, 2012</td>\n",
       "      <td>Jan 1, 2013</td>\n",
       "      <td>108 minutes</td>\n",
       "    </tr>\n",
       "    <tr>\n",
       "      <th>3</th>\n",
       "      <td>3</td>\n",
       "      <td>NaN</td>\n",
       "      <td>fresh</td>\n",
       "      <td>November 16, 2017</td>\n",
       "      <td>R</td>\n",
       "      <td>Drama|Science Fiction and Fantasy</td>\n",
       "      <td>David Cronenberg</td>\n",
       "      <td>Aug 17, 2012</td>\n",
       "      <td>Jan 1, 2013</td>\n",
       "      <td>108 minutes</td>\n",
       "    </tr>\n",
       "    <tr>\n",
       "      <th>4</th>\n",
       "      <td>3</td>\n",
       "      <td>NaN</td>\n",
       "      <td>fresh</td>\n",
       "      <td>October 12, 2017</td>\n",
       "      <td>R</td>\n",
       "      <td>Drama|Science Fiction and Fantasy</td>\n",
       "      <td>David Cronenberg</td>\n",
       "      <td>Aug 17, 2012</td>\n",
       "      <td>Jan 1, 2013</td>\n",
       "      <td>108 minutes</td>\n",
       "    </tr>\n",
       "  </tbody>\n",
       "</table>\n",
       "</div>"
      ],
      "text/plain": [
       "   id star_rating   fresh               date MPAA_rating  \\\n",
       "0   3         3/5   fresh  November 10, 2018           R   \n",
       "1   3         NaN  rotten       May 23, 2018           R   \n",
       "2   3         NaN   fresh    January 4, 2018           R   \n",
       "3   3         NaN   fresh  November 16, 2017           R   \n",
       "4   3         NaN   fresh   October 12, 2017           R   \n",
       "\n",
       "                               genre          director  theater_date  \\\n",
       "0  Drama|Science Fiction and Fantasy  David Cronenberg  Aug 17, 2012   \n",
       "1  Drama|Science Fiction and Fantasy  David Cronenberg  Aug 17, 2012   \n",
       "2  Drama|Science Fiction and Fantasy  David Cronenberg  Aug 17, 2012   \n",
       "3  Drama|Science Fiction and Fantasy  David Cronenberg  Aug 17, 2012   \n",
       "4  Drama|Science Fiction and Fantasy  David Cronenberg  Aug 17, 2012   \n",
       "\n",
       "      dvd_date      runtime  \n",
       "0  Jan 1, 2013  108 minutes  \n",
       "1  Jan 1, 2013  108 minutes  \n",
       "2  Jan 1, 2013  108 minutes  \n",
       "3  Jan 1, 2013  108 minutes  \n",
       "4  Jan 1, 2013  108 minutes  "
      ]
     },
     "execution_count": 63,
     "metadata": {},
     "output_type": "execute_result"
    }
   ],
   "source": [
    "merged_df.rename(columns={'rating_x': 'star_rating', 'rating_y': 'MPAA_rating'}, inplace=True)\n",
    "merged_df.head()"
   ]
  },
  {
   "cell_type": "markdown",
   "id": "c713ff6d-4a2a-46f8-81cd-6f04ab0bd59a",
   "metadata": {},
   "source": [
    "#### 1.4 checking and Dealing with missing values"
   ]
  },
  {
   "cell_type": "code",
   "execution_count": 64,
   "id": "f3eb0d6c-9370-4e5d-998a-8a68d7dca16c",
   "metadata": {},
   "outputs": [
    {
     "data": {
      "text/plain": [
       "id                  0\n",
       "star_rating     13517\n",
       "fresh               0\n",
       "date                0\n",
       "MPAA_rating        86\n",
       "genre              87\n",
       "director         5440\n",
       "theater_date     1226\n",
       "dvd_date         1226\n",
       "runtime           838\n",
       "dtype: int64"
      ]
     },
     "execution_count": 64,
     "metadata": {},
     "output_type": "execute_result"
    }
   ],
   "source": [
    "merged_df.isna().sum()"
   ]
  },
  {
   "cell_type": "markdown",
   "id": "5c058e71",
   "metadata": {},
   "source": [
    "#### 1.5 Standardizing star_rating"
   ]
  },
  {
   "cell_type": "code",
   "execution_count": 65,
   "id": "89f0e3eb",
   "metadata": {},
   "outputs": [],
   "source": [
    "# Function to convert star ratings to a 0-10 scale\n",
    "def convert_rating(rating):\n",
    "    if pd.isna(rating):\n",
    "        return np.nan\n",
    "    \n",
    "    # Handle mixed fractions (e.g., '3 1/2')\n",
    "    if ' ' in rating and '/' in rating:\n",
    "        whole, frac = rating.split(' ')\n",
    "        num, denom = frac.split('/')\n",
    "        return (float(whole) + float(num) / float(denom)) * 10 / (10 / float(denom))\n",
    "    \n",
    "    # Convert fraction ratings (e.g., '3/5')\n",
    "    if '/' in rating:\n",
    "        num, denom = rating.split('/')\n",
    "        num = float(num)\n",
    "        denom = float(denom)\n",
    "        return (num / denom) * 10\n",
    "    \n",
    "    # Convert letter grades\n",
    "    letter_grades = {\n",
    "        'A+': 10, 'A': 9.5, 'A-': 9,\n",
    "        'B+': 8.5, 'B': 8, 'B-': 7.5,\n",
    "        'C+': 7, 'C': 6.5, 'C-': 6,\n",
    "        'D+': 5.5, 'D': 5, 'D-': 4.5,\n",
    "        'F': 2.5, 'F+': 2, 'F-': 1.5\n",
    "    }\n",
    "    if rating in letter_grades:\n",
    "        return letter_grades[rating]\n",
    "    \n",
    "    # Handle unconventional ratings ('N', 'R', etc.)\n",
    "    unconventional_ratings = {\n",
    "        'N': np.nan, 'R': np.nan  # Treat as missing values or set specific values\n",
    "    }\n",
    "    if rating in unconventional_ratings:\n",
    "        return unconventional_ratings[rating]\n",
    "    \n",
    "    # Convert direct numeric ratings if within the range\n",
    "    try:\n",
    "        value = float(rating)\n",
    "        if 0 <= value <= 10:\n",
    "            return value\n",
    "    except ValueError:\n",
    "        pass\n",
    "    \n",
    "    return np.nan\n",
    "\n",
    "# Apply conversion function to the star_rating column\n",
    "merged_df['standardized_rating'] = merged_df['star_rating'].apply(convert_rating)\n",
    "\n",
    "# Display the DataFrame with standardized ratings\n",
    "# merged_df"
   ]
  },
  {
   "cell_type": "markdown",
   "id": "67fd8219",
   "metadata": {},
   "source": [
    "#### 1.5.1 fill missing standardized rating with mean"
   ]
  },
  {
   "cell_type": "code",
   "execution_count": 66,
   "id": "63bb8061",
   "metadata": {},
   "outputs": [
    {
     "name": "stderr",
     "output_type": "stream",
     "text": [
      "C:\\Users\\Floyed\\AppData\\Local\\Temp\\ipykernel_9756\\3497875837.py:3: FutureWarning: A value is trying to be set on a copy of a DataFrame or Series through chained assignment using an inplace method.\n",
      "The behavior will change in pandas 3.0. This inplace method will never work because the intermediate object on which we are setting values always behaves as a copy.\n",
      "\n",
      "For example, when doing 'df[col].method(value, inplace=True)', try using 'df.method({col: value}, inplace=True)' or df[col] = df[col].method(value) instead, to perform the operation inplace on the original object.\n",
      "\n",
      "\n",
      "  merged_df['standardized_rating'].fillna(merged_df['standardized_rating'].mean(), inplace=True)\n"
     ]
    }
   ],
   "source": [
    "# fill standardized_rating with mean\n",
    "\n",
    "merged_df['standardized_rating'].fillna(merged_df['standardized_rating'].mean(), inplace=True)"
   ]
  },
  {
   "cell_type": "code",
   "execution_count": 67,
   "id": "30b18f02",
   "metadata": {},
   "outputs": [],
   "source": [
    "# drop rows with missing values on columns `MPAA_rating` and `genre`\n",
    "merged_df = merged_df.dropna(subset=['MPAA_rating', 'genre'])"
   ]
  },
  {
   "cell_type": "code",
   "execution_count": 68,
   "id": "9d68168b",
   "metadata": {},
   "outputs": [],
   "source": [
    "# Drop the star_rating column\n",
    "\n",
    "merged_df = merged_df.drop('star_rating', axis=1)"
   ]
  },
  {
   "cell_type": "markdown",
   "id": "3d2951a7",
   "metadata": {},
   "source": [
    "#### 1.6 checking and dropping duplicates"
   ]
  },
  {
   "cell_type": "code",
   "execution_count": 69,
   "id": "8ef5f6a4",
   "metadata": {},
   "outputs": [],
   "source": [
    "# checking duplicates\n",
    "duplicate_rows = merged_df[merged_df.duplicated()]\n",
    "\n",
    "#dropping duplicates\n",
    "merged_df = merged_df.drop_duplicates()"
   ]
  },
  {
   "cell_type": "code",
   "execution_count": 70,
   "id": "d214977c",
   "metadata": {},
   "outputs": [
    {
     "data": {
      "text/plain": [
       "id                        0\n",
       "fresh                     0\n",
       "date                      0\n",
       "MPAA_rating               0\n",
       "genre                     0\n",
       "director               4105\n",
       "theater_date            954\n",
       "dvd_date                954\n",
       "runtime                 471\n",
       "standardized_rating       0\n",
       "dtype: int64"
      ]
     },
     "execution_count": 70,
     "metadata": {},
     "output_type": "execute_result"
    }
   ],
   "source": [
    "merged_df.isna().sum()"
   ]
  },
  {
   "cell_type": "markdown",
   "id": "2c5c3cb5",
   "metadata": {},
   "source": [
    "#### 1.7 handling missing values for director, theatre date, dvd_date, runtime"
   ]
  },
  {
   "cell_type": "code",
   "execution_count": 72,
   "id": "557a0416",
   "metadata": {},
   "outputs": [
    {
     "name": "stderr",
     "output_type": "stream",
     "text": [
      "C:\\Users\\Floyed\\AppData\\Local\\Temp\\ipykernel_9756\\3538672782.py:5: FutureWarning: A value is trying to be set on a copy of a DataFrame or Series through chained assignment using an inplace method.\n",
      "The behavior will change in pandas 3.0. This inplace method will never work because the intermediate object on which we are setting values always behaves as a copy.\n",
      "\n",
      "For example, when doing 'df[col].method(value, inplace=True)', try using 'df.method({col: value}, inplace=True)' or df[col] = df[col].method(value) instead, to perform the operation inplace on the original object.\n",
      "\n",
      "\n",
      "  merged_df['director'].fillna('Unknown', inplace=True)\n"
     ]
    }
   ],
   "source": [
    "# 1. Drop rows with missing values in specific columns\n",
    "merged_df.dropna(subset=['theater_date', 'dvd_date'], inplace=True)\n",
    "\n",
    "# 2. Fill with specific values\n",
    "merged_df['director'].fillna('Unknown', inplace=True)"
   ]
  },
  {
   "cell_type": "code",
   "execution_count": 74,
   "id": "a96a8545",
   "metadata": {},
   "outputs": [
    {
     "name": "stderr",
     "output_type": "stream",
     "text": [
      "C:\\Users\\Floyed\\AppData\\Local\\Temp\\ipykernel_9756\\3809561258.py:5: FutureWarning: A value is trying to be set on a copy of a DataFrame or Series through chained assignment using an inplace method.\n",
      "The behavior will change in pandas 3.0. This inplace method will never work because the intermediate object on which we are setting values always behaves as a copy.\n",
      "\n",
      "For example, when doing 'df[col].method(value, inplace=True)', try using 'df.method({col: value}, inplace=True)' or df[col] = df[col].method(value) instead, to perform the operation inplace on the original object.\n",
      "\n",
      "\n",
      "  merged_df['runtime'].fillna(merged_df['runtime'].mean(), inplace=True)\n"
     ]
    }
   ],
   "source": [
    "# extract minutes in the runtime dataset\n",
    "merged_df['runtime'] = merged_df['runtime'].str.extract('(\\d+)').astype(float)\n",
    "\n",
    "# fill the missing runtime values with the mean\n",
    "merged_df['runtime'].fillna(merged_df['runtime'].mean(), inplace=True)"
   ]
  },
  {
   "cell_type": "code",
   "execution_count": 76,
   "id": "35a8039a",
   "metadata": {},
   "outputs": [
    {
     "name": "stdout",
     "output_type": "stream",
     "text": [
      "<class 'pandas.core.frame.DataFrame'>\n",
      "Index: 39453 entries, 0 to 54431\n",
      "Data columns (total 10 columns):\n",
      " #   Column               Non-Null Count  Dtype  \n",
      "---  ------               --------------  -----  \n",
      " 0   id                   39453 non-null  int64  \n",
      " 1   fresh                39453 non-null  object \n",
      " 2   date                 39453 non-null  object \n",
      " 3   MPAA_rating          39453 non-null  object \n",
      " 4   genre                39453 non-null  object \n",
      " 5   director             39453 non-null  object \n",
      " 6   theater_date         39453 non-null  object \n",
      " 7   dvd_date             39453 non-null  object \n",
      " 8   runtime              39453 non-null  float64\n",
      " 9   standardized_rating  39453 non-null  float64\n",
      "dtypes: float64(2), int64(1), object(7)\n",
      "memory usage: 3.3+ MB\n"
     ]
    }
   ],
   "source": [
    "merged_df.info()"
   ]
  },
  {
   "cell_type": "code",
   "execution_count": 77,
   "id": "e461dafc",
   "metadata": {},
   "outputs": [
    {
     "data": {
      "text/html": [
       "<div>\n",
       "<style scoped>\n",
       "    .dataframe tbody tr th:only-of-type {\n",
       "        vertical-align: middle;\n",
       "    }\n",
       "\n",
       "    .dataframe tbody tr th {\n",
       "        vertical-align: top;\n",
       "    }\n",
       "\n",
       "    .dataframe thead th {\n",
       "        text-align: right;\n",
       "    }\n",
       "</style>\n",
       "<table border=\"1\" class=\"dataframe\">\n",
       "  <thead>\n",
       "    <tr style=\"text-align: right;\">\n",
       "      <th></th>\n",
       "      <th>id</th>\n",
       "      <th>fresh</th>\n",
       "      <th>date</th>\n",
       "      <th>MPAA_rating</th>\n",
       "      <th>genre</th>\n",
       "      <th>director</th>\n",
       "      <th>theater_date</th>\n",
       "      <th>dvd_date</th>\n",
       "      <th>runtime</th>\n",
       "      <th>standardized_rating</th>\n",
       "    </tr>\n",
       "  </thead>\n",
       "  <tbody>\n",
       "    <tr>\n",
       "      <th>0</th>\n",
       "      <td>3</td>\n",
       "      <td>fresh</td>\n",
       "      <td>November 10, 2018</td>\n",
       "      <td>R</td>\n",
       "      <td>Drama|Science Fiction and Fantasy</td>\n",
       "      <td>David Cronenberg</td>\n",
       "      <td>Aug 17, 2012</td>\n",
       "      <td>Jan 1, 2013</td>\n",
       "      <td>108.0</td>\n",
       "      <td>6.000000</td>\n",
       "    </tr>\n",
       "    <tr>\n",
       "      <th>1</th>\n",
       "      <td>3</td>\n",
       "      <td>rotten</td>\n",
       "      <td>May 23, 2018</td>\n",
       "      <td>R</td>\n",
       "      <td>Drama|Science Fiction and Fantasy</td>\n",
       "      <td>David Cronenberg</td>\n",
       "      <td>Aug 17, 2012</td>\n",
       "      <td>Jan 1, 2013</td>\n",
       "      <td>108.0</td>\n",
       "      <td>6.391708</td>\n",
       "    </tr>\n",
       "    <tr>\n",
       "      <th>2</th>\n",
       "      <td>3</td>\n",
       "      <td>fresh</td>\n",
       "      <td>January 4, 2018</td>\n",
       "      <td>R</td>\n",
       "      <td>Drama|Science Fiction and Fantasy</td>\n",
       "      <td>David Cronenberg</td>\n",
       "      <td>Aug 17, 2012</td>\n",
       "      <td>Jan 1, 2013</td>\n",
       "      <td>108.0</td>\n",
       "      <td>6.391708</td>\n",
       "    </tr>\n",
       "    <tr>\n",
       "      <th>3</th>\n",
       "      <td>3</td>\n",
       "      <td>fresh</td>\n",
       "      <td>November 16, 2017</td>\n",
       "      <td>R</td>\n",
       "      <td>Drama|Science Fiction and Fantasy</td>\n",
       "      <td>David Cronenberg</td>\n",
       "      <td>Aug 17, 2012</td>\n",
       "      <td>Jan 1, 2013</td>\n",
       "      <td>108.0</td>\n",
       "      <td>6.391708</td>\n",
       "    </tr>\n",
       "    <tr>\n",
       "      <th>4</th>\n",
       "      <td>3</td>\n",
       "      <td>fresh</td>\n",
       "      <td>October 12, 2017</td>\n",
       "      <td>R</td>\n",
       "      <td>Drama|Science Fiction and Fantasy</td>\n",
       "      <td>David Cronenberg</td>\n",
       "      <td>Aug 17, 2012</td>\n",
       "      <td>Jan 1, 2013</td>\n",
       "      <td>108.0</td>\n",
       "      <td>6.391708</td>\n",
       "    </tr>\n",
       "  </tbody>\n",
       "</table>\n",
       "</div>"
      ],
      "text/plain": [
       "   id   fresh               date MPAA_rating  \\\n",
       "0   3   fresh  November 10, 2018           R   \n",
       "1   3  rotten       May 23, 2018           R   \n",
       "2   3   fresh    January 4, 2018           R   \n",
       "3   3   fresh  November 16, 2017           R   \n",
       "4   3   fresh   October 12, 2017           R   \n",
       "\n",
       "                               genre          director  theater_date  \\\n",
       "0  Drama|Science Fiction and Fantasy  David Cronenberg  Aug 17, 2012   \n",
       "1  Drama|Science Fiction and Fantasy  David Cronenberg  Aug 17, 2012   \n",
       "2  Drama|Science Fiction and Fantasy  David Cronenberg  Aug 17, 2012   \n",
       "3  Drama|Science Fiction and Fantasy  David Cronenberg  Aug 17, 2012   \n",
       "4  Drama|Science Fiction and Fantasy  David Cronenberg  Aug 17, 2012   \n",
       "\n",
       "      dvd_date  runtime  standardized_rating  \n",
       "0  Jan 1, 2013    108.0             6.000000  \n",
       "1  Jan 1, 2013    108.0             6.391708  \n",
       "2  Jan 1, 2013    108.0             6.391708  \n",
       "3  Jan 1, 2013    108.0             6.391708  \n",
       "4  Jan 1, 2013    108.0             6.391708  "
      ]
     },
     "execution_count": 77,
     "metadata": {},
     "output_type": "execute_result"
    }
   ],
   "source": [
    "merged_df.head()"
   ]
  },
  {
   "cell_type": "markdown",
   "id": "e793ef1a",
   "metadata": {},
   "source": [
    "### 2. movie_budgets_df "
   ]
  },
  {
   "cell_type": "code",
   "execution_count": 78,
   "id": "6c683b59",
   "metadata": {},
   "outputs": [
    {
     "name": "stdout",
     "output_type": "stream",
     "text": [
      "<class 'pandas.core.frame.DataFrame'>\n",
      "RangeIndex: 5782 entries, 0 to 5781\n",
      "Data columns (total 6 columns):\n",
      " #   Column             Non-Null Count  Dtype \n",
      "---  ------             --------------  ----- \n",
      " 0   id                 5782 non-null   int64 \n",
      " 1   release_date       5782 non-null   object\n",
      " 2   movie              5782 non-null   object\n",
      " 3   production_budget  5782 non-null   object\n",
      " 4   domestic_gross     5782 non-null   object\n",
      " 5   worldwide_gross    5782 non-null   object\n",
      "dtypes: int64(1), object(5)\n",
      "memory usage: 271.2+ KB\n"
     ]
    }
   ],
   "source": [
    "movie_budgets_df.info()"
   ]
  },
  {
   "cell_type": "markdown",
   "id": "3149a3a8",
   "metadata": {},
   "source": [
    "#### 2.1 checking for null values"
   ]
  },
  {
   "cell_type": "code",
   "execution_count": 79,
   "id": "539205da",
   "metadata": {},
   "outputs": [
    {
     "data": {
      "text/plain": [
       "id                   0\n",
       "release_date         0\n",
       "movie                0\n",
       "production_budget    0\n",
       "domestic_gross       0\n",
       "worldwide_gross      0\n",
       "dtype: int64"
      ]
     },
     "execution_count": 79,
     "metadata": {},
     "output_type": "execute_result"
    }
   ],
   "source": [
    "movie_budgets_df.isna().sum()"
   ]
  },
  {
   "cell_type": "markdown",
   "id": "1f0e305a",
   "metadata": {},
   "source": [
    "#### 2.2 checking for duplicates"
   ]
  },
  {
   "cell_type": "code",
   "execution_count": 81,
   "id": "cd63e6d5",
   "metadata": {},
   "outputs": [
    {
     "data": {
      "text/html": [
       "<div>\n",
       "<style scoped>\n",
       "    .dataframe tbody tr th:only-of-type {\n",
       "        vertical-align: middle;\n",
       "    }\n",
       "\n",
       "    .dataframe tbody tr th {\n",
       "        vertical-align: top;\n",
       "    }\n",
       "\n",
       "    .dataframe thead th {\n",
       "        text-align: right;\n",
       "    }\n",
       "</style>\n",
       "<table border=\"1\" class=\"dataframe\">\n",
       "  <thead>\n",
       "    <tr style=\"text-align: right;\">\n",
       "      <th></th>\n",
       "      <th>id</th>\n",
       "      <th>release_date</th>\n",
       "      <th>movie</th>\n",
       "      <th>production_budget</th>\n",
       "      <th>domestic_gross</th>\n",
       "      <th>worldwide_gross</th>\n",
       "    </tr>\n",
       "  </thead>\n",
       "  <tbody>\n",
       "  </tbody>\n",
       "</table>\n",
       "</div>"
      ],
      "text/plain": [
       "Empty DataFrame\n",
       "Columns: [id, release_date, movie, production_budget, domestic_gross, worldwide_gross]\n",
       "Index: []"
      ]
     },
     "execution_count": 81,
     "metadata": {},
     "output_type": "execute_result"
    }
   ],
   "source": [
    "#  checking duplicates\n",
    "\n",
    "duplicated_rows = movie_budgets_df[movie_budgets_df.duplicated()]\n",
    "duplicated_rows"
   ]
  },
  {
   "cell_type": "code",
   "execution_count": 111,
   "id": "570f8d54",
   "metadata": {},
   "outputs": [
    {
     "data": {
      "text/html": [
       "<div>\n",
       "<style scoped>\n",
       "    .dataframe tbody tr th:only-of-type {\n",
       "        vertical-align: middle;\n",
       "    }\n",
       "\n",
       "    .dataframe tbody tr th {\n",
       "        vertical-align: top;\n",
       "    }\n",
       "\n",
       "    .dataframe thead th {\n",
       "        text-align: right;\n",
       "    }\n",
       "</style>\n",
       "<table border=\"1\" class=\"dataframe\">\n",
       "  <thead>\n",
       "    <tr style=\"text-align: right;\">\n",
       "      <th></th>\n",
       "      <th>id</th>\n",
       "      <th>release_date</th>\n",
       "      <th>movie</th>\n",
       "      <th>production_budget</th>\n",
       "      <th>domestic_gross</th>\n",
       "      <th>worldwide_gross</th>\n",
       "    </tr>\n",
       "  </thead>\n",
       "  <tbody>\n",
       "    <tr>\n",
       "      <th>0</th>\n",
       "      <td>1</td>\n",
       "      <td>2009-12-18</td>\n",
       "      <td>Avatar</td>\n",
       "      <td>425000000.0</td>\n",
       "      <td>760507625.0</td>\n",
       "      <td>2.776345e+09</td>\n",
       "    </tr>\n",
       "    <tr>\n",
       "      <th>1</th>\n",
       "      <td>2</td>\n",
       "      <td>2011-05-20</td>\n",
       "      <td>Pirates of the Caribbean: On Stranger Tides</td>\n",
       "      <td>410600000.0</td>\n",
       "      <td>241063875.0</td>\n",
       "      <td>1.045664e+09</td>\n",
       "    </tr>\n",
       "    <tr>\n",
       "      <th>2</th>\n",
       "      <td>3</td>\n",
       "      <td>2019-06-07</td>\n",
       "      <td>Dark Phoenix</td>\n",
       "      <td>350000000.0</td>\n",
       "      <td>42762350.0</td>\n",
       "      <td>1.497624e+08</td>\n",
       "    </tr>\n",
       "    <tr>\n",
       "      <th>3</th>\n",
       "      <td>4</td>\n",
       "      <td>2015-05-01</td>\n",
       "      <td>Avengers: Age of Ultron</td>\n",
       "      <td>330600000.0</td>\n",
       "      <td>459005868.0</td>\n",
       "      <td>1.403014e+09</td>\n",
       "    </tr>\n",
       "    <tr>\n",
       "      <th>4</th>\n",
       "      <td>5</td>\n",
       "      <td>2017-12-15</td>\n",
       "      <td>Star Wars Ep. VIII: The Last Jedi</td>\n",
       "      <td>317000000.0</td>\n",
       "      <td>620181382.0</td>\n",
       "      <td>1.316722e+09</td>\n",
       "    </tr>\n",
       "    <tr>\n",
       "      <th>...</th>\n",
       "      <td>...</td>\n",
       "      <td>...</td>\n",
       "      <td>...</td>\n",
       "      <td>...</td>\n",
       "      <td>...</td>\n",
       "      <td>...</td>\n",
       "    </tr>\n",
       "    <tr>\n",
       "      <th>5777</th>\n",
       "      <td>78</td>\n",
       "      <td>2018-12-31</td>\n",
       "      <td>Red 11</td>\n",
       "      <td>7000.0</td>\n",
       "      <td>0.0</td>\n",
       "      <td>0.000000e+00</td>\n",
       "    </tr>\n",
       "    <tr>\n",
       "      <th>5778</th>\n",
       "      <td>79</td>\n",
       "      <td>1999-04-02</td>\n",
       "      <td>Following</td>\n",
       "      <td>6000.0</td>\n",
       "      <td>48482.0</td>\n",
       "      <td>2.404950e+05</td>\n",
       "    </tr>\n",
       "    <tr>\n",
       "      <th>5779</th>\n",
       "      <td>80</td>\n",
       "      <td>2005-07-13</td>\n",
       "      <td>Return to the Land of Wonders</td>\n",
       "      <td>5000.0</td>\n",
       "      <td>1338.0</td>\n",
       "      <td>1.338000e+03</td>\n",
       "    </tr>\n",
       "    <tr>\n",
       "      <th>5780</th>\n",
       "      <td>81</td>\n",
       "      <td>2015-09-29</td>\n",
       "      <td>A Plague So Pleasant</td>\n",
       "      <td>1400.0</td>\n",
       "      <td>0.0</td>\n",
       "      <td>0.000000e+00</td>\n",
       "    </tr>\n",
       "    <tr>\n",
       "      <th>5781</th>\n",
       "      <td>82</td>\n",
       "      <td>2005-08-05</td>\n",
       "      <td>My Date With Drew</td>\n",
       "      <td>1100.0</td>\n",
       "      <td>181041.0</td>\n",
       "      <td>1.810410e+05</td>\n",
       "    </tr>\n",
       "  </tbody>\n",
       "</table>\n",
       "<p>5782 rows × 6 columns</p>\n",
       "</div>"
      ],
      "text/plain": [
       "      id release_date                                        movie  \\\n",
       "0      1   2009-12-18                                       Avatar   \n",
       "1      2   2011-05-20  Pirates of the Caribbean: On Stranger Tides   \n",
       "2      3   2019-06-07                                 Dark Phoenix   \n",
       "3      4   2015-05-01                      Avengers: Age of Ultron   \n",
       "4      5   2017-12-15            Star Wars Ep. VIII: The Last Jedi   \n",
       "...   ..          ...                                          ...   \n",
       "5777  78   2018-12-31                                       Red 11   \n",
       "5778  79   1999-04-02                                    Following   \n",
       "5779  80   2005-07-13                Return to the Land of Wonders   \n",
       "5780  81   2015-09-29                         A Plague So Pleasant   \n",
       "5781  82   2005-08-05                            My Date With Drew   \n",
       "\n",
       "      production_budget  domestic_gross  worldwide_gross  \n",
       "0           425000000.0     760507625.0     2.776345e+09  \n",
       "1           410600000.0     241063875.0     1.045664e+09  \n",
       "2           350000000.0      42762350.0     1.497624e+08  \n",
       "3           330600000.0     459005868.0     1.403014e+09  \n",
       "4           317000000.0     620181382.0     1.316722e+09  \n",
       "...                 ...             ...              ...  \n",
       "5777             7000.0             0.0     0.000000e+00  \n",
       "5778             6000.0         48482.0     2.404950e+05  \n",
       "5779             5000.0          1338.0     1.338000e+03  \n",
       "5780             1400.0             0.0     0.000000e+00  \n",
       "5781             1100.0        181041.0     1.810410e+05  \n",
       "\n",
       "[5782 rows x 6 columns]"
      ]
     },
     "execution_count": 111,
     "metadata": {},
     "output_type": "execute_result"
    }
   ],
   "source": [
    "# Convert 'release_date' to datetime\n",
    "movie_budgets_df['release_date'] = pd.to_datetime(movie_budgets_df['release_date'])\n",
    "\n",
    "# Function to remove dollar signs and commas and convert to numeric\n",
    "def clean_currency(column):\n",
    "    return column.replace('[\\$,]', '', regex=True).astype(float)\n",
    "\n",
    "# Apply the function to the budget and gross columns\n",
    "movie_budgets_df['production_budget'] = clean_currency(movie_budgets_df['production_budget'])\n",
    "movie_budgets_df['domestic_gross'] = clean_currency(movie_budgets_df['domestic_gross'])\n",
    "movie_budgets_df['worldwide_gross'] = clean_currency(movie_budgets_df['worldwide_gross'])\n",
    "\n",
    "movie_budgets_df"
   ]
  },
  {
   "cell_type": "markdown",
   "id": "33d77720",
   "metadata": {},
   "source": [
    "### 3. imdb data set"
   ]
  },
  {
   "cell_type": "code",
   "execution_count": 82,
   "id": "7c694d76",
   "metadata": {},
   "outputs": [
    {
     "name": "stdout",
     "output_type": "stream",
     "text": [
      "<class 'pandas.core.frame.DataFrame'>\n",
      "RangeIndex: 73856 entries, 0 to 73855\n",
      "Data columns (total 9 columns):\n",
      " #   Column           Non-Null Count  Dtype  \n",
      "---  ------           --------------  -----  \n",
      " 0   movie_id         73856 non-null  object \n",
      " 1   primary_title    73856 non-null  object \n",
      " 2   original_title   73856 non-null  object \n",
      " 3   start_year       73856 non-null  int64  \n",
      " 4   runtime_minutes  66236 non-null  float64\n",
      " 5   genres           73052 non-null  object \n",
      " 6   movie_id         73856 non-null  object \n",
      " 7   averagerating    73856 non-null  float64\n",
      " 8   numvotes         73856 non-null  int64  \n",
      "dtypes: float64(2), int64(2), object(5)\n",
      "memory usage: 5.1+ MB\n"
     ]
    }
   ],
   "source": [
    "imdb_df.info()"
   ]
  },
  {
   "cell_type": "markdown",
   "id": "a107038e",
   "metadata": {},
   "source": [
    "#### 3.1 checking for duplicates"
   ]
  },
  {
   "cell_type": "code",
   "execution_count": 83,
   "id": "cd389a41",
   "metadata": {},
   "outputs": [
    {
     "data": {
      "text/html": [
       "<div>\n",
       "<style scoped>\n",
       "    .dataframe tbody tr th:only-of-type {\n",
       "        vertical-align: middle;\n",
       "    }\n",
       "\n",
       "    .dataframe tbody tr th {\n",
       "        vertical-align: top;\n",
       "    }\n",
       "\n",
       "    .dataframe thead th {\n",
       "        text-align: right;\n",
       "    }\n",
       "</style>\n",
       "<table border=\"1\" class=\"dataframe\">\n",
       "  <thead>\n",
       "    <tr style=\"text-align: right;\">\n",
       "      <th></th>\n",
       "      <th>movie_id</th>\n",
       "      <th>primary_title</th>\n",
       "      <th>original_title</th>\n",
       "      <th>start_year</th>\n",
       "      <th>runtime_minutes</th>\n",
       "      <th>genres</th>\n",
       "      <th>movie_id</th>\n",
       "      <th>averagerating</th>\n",
       "      <th>numvotes</th>\n",
       "    </tr>\n",
       "  </thead>\n",
       "  <tbody>\n",
       "  </tbody>\n",
       "</table>\n",
       "</div>"
      ],
      "text/plain": [
       "Empty DataFrame\n",
       "Columns: [movie_id, primary_title, original_title, start_year, runtime_minutes, genres, movie_id, averagerating, numvotes]\n",
       "Index: []"
      ]
     },
     "execution_count": 83,
     "metadata": {},
     "output_type": "execute_result"
    }
   ],
   "source": [
    "# checking duplicates\n",
    "\n",
    "dup_rows = imdb_df[imdb_df.duplicated]\n",
    "dup_rows"
   ]
  },
  {
   "cell_type": "markdown",
   "id": "a1459362",
   "metadata": {},
   "source": [
    "#### 3.2 checking and dealing with null"
   ]
  },
  {
   "cell_type": "code",
   "execution_count": 86,
   "id": "66bdc415",
   "metadata": {},
   "outputs": [],
   "source": [
    "# drop null values on runtime and genres\n",
    "\n",
    "imdb_df = imdb_df.dropna(subset = ['runtime_minutes', 'genres'], )"
   ]
  },
  {
   "cell_type": "code",
   "execution_count": 90,
   "id": "e1ba8973",
   "metadata": {},
   "outputs": [
    {
     "data": {
      "text/plain": [
       "movie_id           0\n",
       "primary_title      0\n",
       "original_title     0\n",
       "start_year         0\n",
       "runtime_minutes    0\n",
       "genres             0\n",
       "movie_id           0\n",
       "averagerating      0\n",
       "numvotes           0\n",
       "dtype: int64"
      ]
     },
     "execution_count": 90,
     "metadata": {},
     "output_type": "execute_result"
    }
   ],
   "source": [
    "imdb_df.isna().sum()"
   ]
  },
  {
   "cell_type": "markdown",
   "id": "6bbcd89b-0550-4093-9676-e704cc720efa",
   "metadata": {},
   "source": [
    "### Visualization"
   ]
  },
  {
   "cell_type": "markdown",
   "id": "c63e0cbf",
   "metadata": {},
   "source": [
    "#### 1. Univariate"
   ]
  },
  {
   "cell_type": "markdown",
   "id": "914c3ad3",
   "metadata": {},
   "source": [
    "##### plot `fresh` from `merge_df` distribution"
   ]
  },
  {
   "cell_type": "code",
   "execution_count": 101,
   "id": "ff5e2699",
   "metadata": {},
   "outputs": [
    {
     "data": {
      "image/png": "[encoded data removed]",
      "text/plain": [
       "<Figure size 800x500 with 1 Axes>"
      ]
     },
     "metadata": {},
     "output_type": "display_data"
    }
   ],
   "source": [
    "frequencies = merged_df['fresh'].value_counts()\n",
    "\n",
    "# Plotting the pie chart\n",
    "plt.figure(figsize=(8, 5))\n",
    "plt.pie(frequencies, labels=frequencies.index, autopct='%1.1f%%', startangle=140)\n",
    "plt.title('Rotten vs Fresh')\n",
    "plt.show()"
   ]
  },
  {
   "cell_type": "code",
   "execution_count": 117,
   "id": "3f5f7cc7",
   "metadata": {},
   "outputs": [
    {
     "name": "stderr",
     "output_type": "stream",
     "text": [
      "c:\\Users\\Floyed\\anaconda3\\envs\\learn-env\\Lib\\site-packages\\seaborn\\_oldcore.py:1119: FutureWarning: use_inf_as_na option is deprecated and will be removed in a future version. Convert inf values to NaN before operating instead.\n",
      "  with pd.option_context('mode.use_inf_as_na', True):\n",
      "c:\\Users\\Floyed\\anaconda3\\envs\\learn-env\\Lib\\site-packages\\seaborn\\_oldcore.py:1119: FutureWarning: use_inf_as_na option is deprecated and will be removed in a future version. Convert inf values to NaN before operating instead.\n",
      "  with pd.option_context('mode.use_inf_as_na', True):\n",
      "c:\\Users\\Floyed\\anaconda3\\envs\\learn-env\\Lib\\site-packages\\seaborn\\_oldcore.py:1119: FutureWarning: use_inf_as_na option is deprecated and will be removed in a future version. Convert inf values to NaN before operating instead.\n",
      "  with pd.option_context('mode.use_inf_as_na', True):\n"
     ]
    },
    {
     "data": {
      "image/png": "[encoded data removed]",
      "text/plain": [
       "<Figure size 800x500 with 1 Axes>"
      ]
     },
     "metadata": {},
     "output_type": "display_data"
    }
   ],
   "source": [
    "plt.figure(figsize=(8, 5))\n",
    "sns.kdeplot(movie_budgets_df['production_budget'], label='production_budget')\n",
    "sns.kdeplot(movie_budgets_df['domestic_gross'], label='domestic gross')\n",
    "sns.kdeplot(movie_budgets_df['worldwide_gross'], label='worldwide gross')\n",
    "plt.legend()\n",
    "plt.show()"
   ]
  },
  {
   "cell_type": "code",
   "execution_count": null,
   "id": "44c3948d-a806-4208-b383-7bc53b9cf0ba",
   "metadata": {},
   "outputs": [],
   "source": []
  }
 ],
 "metadata": {
  "kernelspec": {
   "display_name": "learn-env",
   "language": "python",
   "name": "python3"
  },
  "language_info": {
   "codemirror_mode": {
    "name": "ipython",
    "version": 3
   },
   "file_extension": ".py",
   "mimetype": "text/x-python",
   "name": "python",
   "nbconvert_exporter": "python",
   "pygments_lexer": "ipython3",
   "version": "3.11.9"
  }
 },
 "nbformat": 4,
 "nbformat_minor": 5
}
