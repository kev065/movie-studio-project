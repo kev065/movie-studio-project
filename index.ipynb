{
 "cells": [
  {
   "cell_type": "markdown",
   "id": "f53e9086-62fc-4cc1-8a57-97f59d96e67c",
   "metadata": {},
   "source": [
    "# MOVIE STUDIO ANALYSIS"
   ]
  },
  {
   "cell_type": "markdown",
   "id": "e68baefb-2db5-453c-b82a-0c9f132768e8",
   "metadata": {},
   "source": [
    "<img src=\"images/moviedog.jpg\" style=\"width:100%; height:auto;\">"
   ]
  },
  {
   "cell_type": "markdown",
   "id": "d3921e90-5fe5-4b0d-b1b4-abdc17ab0235",
   "metadata": {},
   "source": [
    "## Business understanding"
   ]
  },
  {
   "cell_type": "markdown",
   "id": "a6acb4fb-bc31-47a8-a678-95dd5cfa69aa",
   "metadata": {},
   "source": [
    "Our company have decided to create a new movie studio, but they don’t know anything about creating movies. We have been charged with exploring what types of films are currently doing the best at the box office.\n",
    "We must then translate the findings into actionable insights that the head of the company's new movie studio can use to help decide what type of films to create.\n",
    "\n",
    "* Our focus will be to make suggestions for the type of movies that will be the most profitable for our new movie division."
   ]
  },
  {
   "cell_type": "markdown",
   "id": "df7aab85-1eea-4ebc-8c62-4facf4a905cc",
   "metadata": {},
   "source": [
    "## Data understanding"
   ]
  },
  {
   "cell_type": "markdown",
   "id": "8d911651-f6c0-44ea-8a9b-74db319354e8",
   "metadata": {},
   "source": [
    "we will be using the following datasets:\n",
    "1. `rt.reviews.tsv` from [rotten tomatoes](https://www.rottentomatoes.com/)\n",
    "2. `rt.movie_info.tsv` from [rotten tomatoes](https://www.rottentomatoes.com/)\n",
    "3. `im.db` from [IMDB](https://www.imdb.com/)\n",
    "4. `bom.movie_gross.csv` from [BOXOFFICE MOJO](https://www.boxofficemojo.com/)\n",
    "5. `tn.movie_budgets.csv` from [NUMBERS](https://www.the-numbers.com/)"
   ]
  },
  {
   "cell_type": "markdown",
   "id": "cc8c7324-c6e9-4f39-a8c7-67eb91dff22a",
   "metadata": {},
   "source": [
    "### Importing libraries"
   ]
  },
  {
   "cell_type": "code",
   "execution_count": 1,
   "id": "054f5945-472b-41e1-bb53-7b404768aa5e",
   "metadata": {},
   "outputs": [],
   "source": [
    "# importing libraries\n",
    "\n",
    "import pandas as pd\n",
    "import numpy as np\n",
    "import sqlite3\n",
    "import matplotlib.pyplot as plt\n",
    "import seaborn as sns\n",
    "import scipy.stats as stats\n",
    "\n",
    "%matplotlib inline"
   ]
  },
  {
   "cell_type": "markdown",
   "id": "9c3ab5eb-3f74-42ac-b60d-ad8e4ac0bb21",
   "metadata": {},
   "source": [
    "### Loading Data sets"
   ]
  },
  {
   "cell_type": "code",
   "execution_count": 2,
   "id": "0150d262-e13b-4eaa-ab97-5a893536c7de",
   "metadata": {},
   "outputs": [],
   "source": [
    "# loading datasets\n",
    "\n",
    "# reviews dataset\n",
    "file_path = 'data/rt.reviews.tsv'\n",
    "\n",
    "try:\n",
    "    review_df = pd.read_csv(file_path, sep='\\t', on_bad_lines='skip', encoding='ISO-8859-1')\n",
    "except pd.errors.ParserError as e:\n",
    "    print(f\"Error parsing file: {e}\")\n",
    "\n",
    "#Loading Movie_Info\n",
    "movie_info_df = pd.read_csv('data/rt.movie_info.tsv', sep='\\t', on_bad_lines='skip', encoding='ISO-8859-1')\n",
    "\n",
    "f'''\n",
    "# bom.movie_gross.csv\n",
    "path = 'data/bom.movie_gross.csv'\n",
    "movie_gross_df = pd.read_csv(path)\n",
    "'''\n",
    "\n",
    "# im.dbsqlite, we load only the 2 tables that are needed for the analysis. \n",
    "conn = sqlite3.connect('data/im.db')\n",
    "q = '''\n",
    "SELECT *\n",
    "    FROM movie_basics\n",
    "    JOIN movie_ratings\n",
    "    ON movie_basics.movie_ID = movie_ratings.movie_id\n",
    "'''\n",
    "imdb_df = pd.read_sql(q, conn)\n",
    "\n",
    "# Loading 'The Numbers' Dataset\n",
    "path = 'data/tn.movie_budgets.csv'\n",
    "movie_budgets_df = pd.read_csv(path)\n"
   ]
  },
  {
   "cell_type": "markdown",
   "id": "0939b0bd-b81f-4b5d-89a8-abceebea0d92",
   "metadata": {},
   "source": [
    "## Data understanding"
   ]
  },
  {
   "cell_type": "markdown",
   "id": "904133d8-5806-476e-b8f2-ba60e65ecde9",
   "metadata": {},
   "source": [
    "### 1. review_df"
   ]
  },
  {
   "cell_type": "markdown",
   "id": "51ae4aec-5220-486d-882d-b3af36989c37",
   "metadata": {},
   "source": [
    "## DATA CLEANING"
   ]
  },
  {
   "cell_type": "markdown",
   "id": "e70b5635-ecca-4621-bc50-fa19ce930353",
   "metadata": {},
   "source": [
    "#### 1.1. Merging review_df and Movie_info_df"
   ]
  },
  {
   "cell_type": "code",
   "execution_count": 3,
   "id": "bb3f0c6c-4a4e-4aa2-8339-543112e1bf19",
   "metadata": {},
   "outputs": [],
   "source": [
    "#merge the two dfs\n",
    "merged_df = pd.merge(review_df, movie_info_df, on='id', how='inner')"
   ]
  },
  {
   "cell_type": "markdown",
   "id": "ce3f2d01-e399-4b10-b4f6-84c632107ac7",
   "metadata": {},
   "source": [
    "#### 1.2 Dropping columns not used"
   ]
  },
  {
   "cell_type": "code",
   "execution_count": 4,
   "id": "376a2d02-b124-4589-b9f1-19dae38ba617",
   "metadata": {},
   "outputs": [],
   "source": [
    "# columns to drop\n",
    "columns_to_drop =['review', 'critic', 'top_critic', 'publisher', 'synopsis', 'writer', 'studio']\n",
    "\n",
    "merged_df = merged_df.drop(columns_to_drop, axis=1)"
   ]
  },
  {
   "cell_type": "markdown",
   "id": "3c93c423-8ae2-487a-9673-fa90ec1e32ab",
   "metadata": {},
   "source": [
    "#### 1.3 Changing column names for rating_x (star_rating) and rating_y(MPAA_rating)"
   ]
  },
  {
   "cell_type": "code",
   "execution_count": 5,
   "id": "21d1cb0c-8b49-40b0-a6d2-7d493dbe4ba3",
   "metadata": {},
   "outputs": [
    {
     "data": {
      "text/html": [
       "<div>\n",
       "<style scoped>\n",
       "    .dataframe tbody tr th:only-of-type {\n",
       "        vertical-align: middle;\n",
       "    }\n",
       "\n",
       "    .dataframe tbody tr th {\n",
       "        vertical-align: top;\n",
       "    }\n",
       "\n",
       "    .dataframe thead th {\n",
       "        text-align: right;\n",
       "    }\n",
       "</style>\n",
       "<table border=\"1\" class=\"dataframe\">\n",
       "  <thead>\n",
       "    <tr style=\"text-align: right;\">\n",
       "      <th></th>\n",
       "      <th>id</th>\n",
       "      <th>star_rating</th>\n",
       "      <th>fresh</th>\n",
       "      <th>date</th>\n",
       "      <th>MPAA_rating</th>\n",
       "      <th>genre</th>\n",
       "      <th>director</th>\n",
       "      <th>theater_date</th>\n",
       "      <th>dvd_date</th>\n",
       "      <th>currency</th>\n",
       "      <th>box_office</th>\n",
       "      <th>runtime</th>\n",
       "    </tr>\n",
       "  </thead>\n",
       "  <tbody>\n",
       "    <tr>\n",
       "      <th>0</th>\n",
       "      <td>3</td>\n",
       "      <td>3/5</td>\n",
       "      <td>fresh</td>\n",
       "      <td>November 10, 2018</td>\n",
       "      <td>R</td>\n",
       "      <td>Drama|Science Fiction and Fantasy</td>\n",
       "      <td>David Cronenberg</td>\n",
       "      <td>Aug 17, 2012</td>\n",
       "      <td>Jan 1, 2013</td>\n",
       "      <td>$</td>\n",
       "      <td>600,000</td>\n",
       "      <td>108 minutes</td>\n",
       "    </tr>\n",
       "    <tr>\n",
       "      <th>1</th>\n",
       "      <td>3</td>\n",
       "      <td>NaN</td>\n",
       "      <td>rotten</td>\n",
       "      <td>May 23, 2018</td>\n",
       "      <td>R</td>\n",
       "      <td>Drama|Science Fiction and Fantasy</td>\n",
       "      <td>David Cronenberg</td>\n",
       "      <td>Aug 17, 2012</td>\n",
       "      <td>Jan 1, 2013</td>\n",
       "      <td>$</td>\n",
       "      <td>600,000</td>\n",
       "      <td>108 minutes</td>\n",
       "    </tr>\n",
       "    <tr>\n",
       "      <th>2</th>\n",
       "      <td>3</td>\n",
       "      <td>NaN</td>\n",
       "      <td>fresh</td>\n",
       "      <td>January 4, 2018</td>\n",
       "      <td>R</td>\n",
       "      <td>Drama|Science Fiction and Fantasy</td>\n",
       "      <td>David Cronenberg</td>\n",
       "      <td>Aug 17, 2012</td>\n",
       "      <td>Jan 1, 2013</td>\n",
       "      <td>$</td>\n",
       "      <td>600,000</td>\n",
       "      <td>108 minutes</td>\n",
       "    </tr>\n",
       "    <tr>\n",
       "      <th>3</th>\n",
       "      <td>3</td>\n",
       "      <td>NaN</td>\n",
       "      <td>fresh</td>\n",
       "      <td>November 16, 2017</td>\n",
       "      <td>R</td>\n",
       "      <td>Drama|Science Fiction and Fantasy</td>\n",
       "      <td>David Cronenberg</td>\n",
       "      <td>Aug 17, 2012</td>\n",
       "      <td>Jan 1, 2013</td>\n",
       "      <td>$</td>\n",
       "      <td>600,000</td>\n",
       "      <td>108 minutes</td>\n",
       "    </tr>\n",
       "    <tr>\n",
       "      <th>4</th>\n",
       "      <td>3</td>\n",
       "      <td>NaN</td>\n",
       "      <td>fresh</td>\n",
       "      <td>October 12, 2017</td>\n",
       "      <td>R</td>\n",
       "      <td>Drama|Science Fiction and Fantasy</td>\n",
       "      <td>David Cronenberg</td>\n",
       "      <td>Aug 17, 2012</td>\n",
       "      <td>Jan 1, 2013</td>\n",
       "      <td>$</td>\n",
       "      <td>600,000</td>\n",
       "      <td>108 minutes</td>\n",
       "    </tr>\n",
       "  </tbody>\n",
       "</table>\n",
       "</div>"
      ],
      "text/plain": [
       "   id star_rating   fresh               date MPAA_rating  \\\n",
       "0   3         3/5   fresh  November 10, 2018           R   \n",
       "1   3         NaN  rotten       May 23, 2018           R   \n",
       "2   3         NaN   fresh    January 4, 2018           R   \n",
       "3   3         NaN   fresh  November 16, 2017           R   \n",
       "4   3         NaN   fresh   October 12, 2017           R   \n",
       "\n",
       "                               genre          director  theater_date  \\\n",
       "0  Drama|Science Fiction and Fantasy  David Cronenberg  Aug 17, 2012   \n",
       "1  Drama|Science Fiction and Fantasy  David Cronenberg  Aug 17, 2012   \n",
       "2  Drama|Science Fiction and Fantasy  David Cronenberg  Aug 17, 2012   \n",
       "3  Drama|Science Fiction and Fantasy  David Cronenberg  Aug 17, 2012   \n",
       "4  Drama|Science Fiction and Fantasy  David Cronenberg  Aug 17, 2012   \n",
       "\n",
       "      dvd_date currency box_office      runtime  \n",
       "0  Jan 1, 2013        $    600,000  108 minutes  \n",
       "1  Jan 1, 2013        $    600,000  108 minutes  \n",
       "2  Jan 1, 2013        $    600,000  108 minutes  \n",
       "3  Jan 1, 2013        $    600,000  108 minutes  \n",
       "4  Jan 1, 2013        $    600,000  108 minutes  "
      ]
     },
     "execution_count": 5,
     "metadata": {},
     "output_type": "execute_result"
    }
   ],
   "source": [
    "merged_df.rename(columns={'rating_x': 'star_rating', 'rating_y': 'MPAA_rating'}, inplace=True)\n",
    "merged_df.head()"
   ]
  },
  {
   "cell_type": "markdown",
   "id": "c713ff6d-4a2a-46f8-81cd-6f04ab0bd59a",
   "metadata": {},
   "source": [
    "#### 1.4 checking and Dealing with missing values"
   ]
  },
  {
   "cell_type": "code",
   "execution_count": 6,
   "id": "f3eb0d6c-9370-4e5d-998a-8a68d7dca16c",
   "metadata": {},
   "outputs": [
    {
     "data": {
      "text/plain": [
       "id                  0\n",
       "star_rating     13517\n",
       "fresh               0\n",
       "date                0\n",
       "MPAA_rating        86\n",
       "genre              87\n",
       "director         5440\n",
       "theater_date     1226\n",
       "dvd_date         1226\n",
       "currency        21122\n",
       "box_office      21122\n",
       "runtime           838\n",
       "dtype: int64"
      ]
     },
     "execution_count": 6,
     "metadata": {},
     "output_type": "execute_result"
    }
   ],
   "source": [
    "merged_df.isna().sum()"
   ]
  },
  {
   "cell_type": "markdown",
   "id": "5c058e71",
   "metadata": {},
   "source": [
    "#### 1.5 Standardizing star_rating"
   ]
  },
  {
   "cell_type": "code",
   "execution_count": 7,
   "id": "89f0e3eb",
   "metadata": {},
   "outputs": [],
   "source": [
    "# Function to convert star ratings to a 0-10 scale\n",
    "def convert_rating(rating):\n",
    "    if pd.isna(rating):\n",
    "        return np.nan\n",
    "    \n",
    "    # Handle mixed fractions (e.g., '3 1/2')\n",
    "    if ' ' in rating and '/' in rating:\n",
    "        whole, frac = rating.split(' ')\n",
    "        num, denom = frac.split('/')\n",
    "        return (float(whole) + float(num) / float(denom)) * 10 / (10 / float(denom))\n",
    "    \n",
    "    # Convert fraction ratings (e.g., '3/5')\n",
    "    if '/' in rating:\n",
    "        num, denom = rating.split('/')\n",
    "        num = float(num)\n",
    "        denom = float(denom)\n",
    "        return (num / denom) * 10\n",
    "    \n",
    "    # Convert letter grades\n",
    "    letter_grades = {\n",
    "        'A+': 10, 'A': 9.5, 'A-': 9,\n",
    "        'B+': 8.5, 'B': 8, 'B-': 7.5,\n",
    "        'C+': 7, 'C': 6.5, 'C-': 6,\n",
    "        'D+': 5.5, 'D': 5, 'D-': 4.5,\n",
    "        'F': 2.5, 'F+': 2, 'F-': 1.5\n",
    "    }\n",
    "    if rating in letter_grades:\n",
    "        return letter_grades[rating]\n",
    "    \n",
    "    # Handle unconventional ratings ('N', 'R', etc.)\n",
    "    unconventional_ratings = {\n",
    "        'N': np.nan, 'R': np.nan  # Treat as missing values or set specific values\n",
    "    }\n",
    "    if rating in unconventional_ratings:\n",
    "        return unconventional_ratings[rating]\n",
    "    \n",
    "    # Convert direct numeric ratings if within the range\n",
    "    try:\n",
    "        value = float(rating)\n",
    "        if 0 <= value <= 10:\n",
    "            return value\n",
    "    except ValueError:\n",
    "        pass\n",
    "    \n",
    "    return np.nan\n",
    "\n",
    "# Apply conversion function to the star_rating column\n",
    "merged_df['standardized_rating'] = merged_df['star_rating'].apply(convert_rating)\n",
    "\n",
    "# Display the DataFrame with standardized ratings\n",
    "# merged_df"
   ]
  },
  {
   "cell_type": "markdown",
   "id": "67fd8219",
   "metadata": {},
   "source": [
    "#### 1.5.1 fill missing standardized rating with mean"
   ]
  },
  {
   "cell_type": "code",
   "execution_count": null,
   "id": "63bb8061",
   "metadata": {},
   "outputs": [],
   "source": [
    "# fill standardized_rating with mean\n",
    "\n",
    "merged_df['standardized_rating'].fillna(merged_df['standardized_rating'].mean(), inplace=True)"
   ]
  },
  {
   "cell_type": "code",
   "execution_count": 18,
   "id": "30b18f02",
   "metadata": {},
   "outputs": [],
   "source": [
    "# drop rows with missing values on columns `MPAA_rating` and `genre`\n",
    "merged_df = merged_df.dropna(subset=['MPAA_rating', 'genre'])"
   ]
  },
  {
   "cell_type": "code",
   "execution_count": 22,
   "id": "9d68168b",
   "metadata": {},
   "outputs": [],
   "source": [
    "# Drop the star_rating column\n",
    "\n",
    "merged_df = merged_df.drop('star_rating', axis=1)"
   ]
  },
  {
   "cell_type": "code",
   "execution_count": 25,
   "id": "577ce370",
   "metadata": {},
   "outputs": [
    {
     "data": {
      "text/plain": [
       "id                         0\n",
       "fresh                      0\n",
       "date                       0\n",
       "MPAA_rating                0\n",
       "genre                      0\n",
       "director                5354\n",
       "theater_date            1139\n",
       "dvd_date                1139\n",
       "currency               21035\n",
       "box_office             21035\n",
       "runtime                  752\n",
       "standardized_rating        0\n",
       "dtype: int64"
      ]
     },
     "execution_count": 25,
     "metadata": {},
     "output_type": "execute_result"
    }
   ],
   "source": [
    "merged_df.isna().sum()"
   ]
  },
  {
   "cell_type": "markdown",
   "id": "17ef3dbc-2274-4687-a590-fb61e3fbf2ec",
   "metadata": {},
   "source": [
    "#### 1.1 using `.info` to understand the dataset"
   ]
  },
  {
   "cell_type": "code",
   "execution_count": 9,
   "id": "bc48afc5-fa52-4348-bcc3-739cc53cc093",
   "metadata": {},
   "outputs": [
    {
     "name": "stdout",
     "output_type": "stream",
     "text": [
      "<class 'pandas.core.frame.DataFrame'>\n",
      "RangeIndex: 54432 entries, 0 to 54431\n",
      "Data columns (total 8 columns):\n",
      " #   Column      Non-Null Count  Dtype \n",
      "---  ------      --------------  ----- \n",
      " 0   id          54432 non-null  int64 \n",
      " 1   review      48869 non-null  object\n",
      " 2   rating      40915 non-null  object\n",
      " 3   fresh       54432 non-null  object\n",
      " 4   critic      51710 non-null  object\n",
      " 5   top_critic  54432 non-null  int64 \n",
      " 6   publisher   54123 non-null  object\n",
      " 7   date        54432 non-null  object\n",
      "dtypes: int64(2), object(6)\n",
      "memory usage: 3.3+ MB\n"
     ]
    }
   ],
   "source": [
    "review_df.info()"
   ]
  },
  {
   "cell_type": "code",
   "execution_count": 10,
   "id": "e0499495-9ec2-42fb-816f-8682a5fdd93f",
   "metadata": {},
   "outputs": [
    {
     "data": {
      "text/plain": [
       "0        0\n",
       "1        0\n",
       "2        0\n",
       "3        0\n",
       "4        0\n",
       "        ..\n",
       "54427    1\n",
       "54428    0\n",
       "54429    0\n",
       "54430    0\n",
       "54431    0\n",
       "Name: top_critic, Length: 54432, dtype: int64"
      ]
     },
     "execution_count": 10,
     "metadata": {},
     "output_type": "execute_result"
    }
   ],
   "source": [
    "# checking null values\n",
    "review_df.isna().sum()\n",
    "\n",
    "review_df['top_critic']"
   ]
  },
  {
   "cell_type": "markdown",
   "id": "6bbcd89b-0550-4093-9676-e704cc720efa",
   "metadata": {},
   "source": [
    "## Visualizing datasets"
   ]
  },
  {
   "cell_type": "code",
   "execution_count": 11,
   "id": "5aff3bd8-371c-4b8d-b816-863544463984",
   "metadata": {},
   "outputs": [],
   "source": [
    "# cleaning currency strings\n",
    "def clean_currency(x):\n",
    "    if isinstance(x, str):\n",
    "        return float(x.replace('$', '').replace(',', ''))\n",
    "    return x\n",
    "\n",
    "# Clean and convert monetary columns to numeric\n",
    "columns_to_clean = ['production_budget', 'domestic_gross', 'worldwide_gross']\n",
    "for col in columns_to_clean:\n",
    "    movie_budgets_df[col] = movie_budgets_df[col].apply(clean_currency).astype(float)\n",
    "\n"
   ]
  },
  {
   "cell_type": "code",
   "execution_count": 12,
   "id": "7fafcf45-e519-47c6-a45e-163627f14024",
   "metadata": {},
   "outputs": [
    {
     "data": {
      "image/png": "[encoded data removed]",
      "text/plain": [
       "<Figure size 1200x800 with 1 Axes>"
      ]
     },
     "metadata": {},
     "output_type": "display_data"
    }
   ],
   "source": [
    "# visualize gross revenue vs budget using a scatter plot\n",
    "plt.figure(figsize=(12, 8))\n",
    "plt.scatter(movie_budgets_df['production_budget'], movie_budgets_df['worldwide_gross'])\n",
    "plt.xlabel('Production Budget')\n",
    "plt.ylabel('Worldwide Gross')\n",
    "plt.title('Production Budget vs. Worldwide Gross')\n",
    "plt.show()"
   ]
  },
  {
   "cell_type": "code",
   "execution_count": null,
   "id": "44c3948d-a806-4208-b383-7bc53b9cf0ba",
   "metadata": {},
   "outputs": [],
   "source": []
  }
 ],
 "metadata": {
  "kernelspec": {
   "display_name": "learn-env",
   "language": "python",
   "name": "python3"
  },
  "language_info": {
   "codemirror_mode": {
    "name": "ipython",
    "version": 3
   },
   "file_extension": ".py",
   "mimetype": "text/x-python",
   "name": "python",
   "nbconvert_exporter": "python",
   "pygments_lexer": "ipython3",
   "version": "3.11.9"
  }
 },
 "nbformat": 4,
 "nbformat_minor": 5
}
